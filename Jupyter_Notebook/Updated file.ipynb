{
 "cells": [
  {
   "cell_type": "code",
   "execution_count": 1,
   "id": "a42f77e7",
   "metadata": {},
   "outputs": [
    {
     "data": {
      "text/html": [
       "<style>.container { width:98% !important; }</style>"
      ],
      "text/plain": [
       "<IPython.core.display.HTML object>"
      ]
     },
     "metadata": {},
     "output_type": "display_data"
    }
   ],
   "source": [
    "from IPython.core.display import display, HTML\n",
    "display(HTML(\"<style>.container { width:98% !important; }</style>\"))"
   ]
  },
  {
   "cell_type": "code",
   "execution_count": 2,
   "id": "05f6fa46",
   "metadata": {},
   "outputs": [],
   "source": [
    "import numpy as np\n",
    "import pandas as pd\n",
    "import matplotlib.pyplot as plt\n",
    "import seaborn as sns\n",
    "import warnings\n",
    "warnings.filterwarnings(\"ignore\")\n",
    "pd.set_option(\"display.max_columns\", None)\n",
    "pd.set_option(\"display.max_rows\", None)"
   ]
  },
  {
   "cell_type": "code",
   "execution_count": 3,
   "id": "abe78c3b",
   "metadata": {},
   "outputs": [],
   "source": [
    "train=pd.read_csv(\"train_CloudCondition.csv\", index_col=0, header=0)\n",
    "test=pd.read_csv(\"test_CloudCondition.csv\", index_col=0, header=0)"
   ]
  },
  {
   "cell_type": "code",
   "execution_count": 4,
   "id": "1f3bc9da",
   "metadata": {},
   "outputs": [
    {
     "name": "stdout",
     "output_type": "stream",
     "text": [
      "(71428, 11)\n"
     ]
    },
    {
     "data": {
      "text/html": [
       "<div>\n",
       "<style scoped>\n",
       "    .dataframe tbody tr th:only-of-type {\n",
       "        vertical-align: middle;\n",
       "    }\n",
       "\n",
       "    .dataframe tbody tr th {\n",
       "        vertical-align: top;\n",
       "    }\n",
       "\n",
       "    .dataframe thead th {\n",
       "        text-align: right;\n",
       "    }\n",
       "</style>\n",
       "<table border=\"1\" class=\"dataframe\">\n",
       "  <thead>\n",
       "    <tr style=\"text-align: right;\">\n",
       "      <th></th>\n",
       "      <th>Cloud_Condition</th>\n",
       "      <th>Rain_OR_SNOW</th>\n",
       "      <th>Temperature (C)</th>\n",
       "      <th>Apparent Temperature (C)</th>\n",
       "      <th>Humidity</th>\n",
       "      <th>Wind Speed (km/h)</th>\n",
       "      <th>Wind Bearing (degrees)</th>\n",
       "      <th>Visibility (km)</th>\n",
       "      <th>Pressure (millibars)</th>\n",
       "      <th>Condensation</th>\n",
       "      <th>Solar irradiance intensity</th>\n",
       "    </tr>\n",
       "    <tr>\n",
       "      <th>Day</th>\n",
       "      <th></th>\n",
       "      <th></th>\n",
       "      <th></th>\n",
       "      <th></th>\n",
       "      <th></th>\n",
       "      <th></th>\n",
       "      <th></th>\n",
       "      <th></th>\n",
       "      <th></th>\n",
       "      <th></th>\n",
       "      <th></th>\n",
       "    </tr>\n",
       "  </thead>\n",
       "  <tbody>\n",
       "    <tr>\n",
       "      <th>1</th>\n",
       "      <td>Partly Cloudy</td>\n",
       "      <td>rain</td>\n",
       "      <td>-13</td>\n",
       "      <td>-19.0</td>\n",
       "      <td>0.134364</td>\n",
       "      <td>17.0</td>\n",
       "      <td>68.0</td>\n",
       "      <td>4.0</td>\n",
       "      <td>1008.0</td>\n",
       "      <td>Frost</td>\n",
       "      <td>1068</td>\n",
       "    </tr>\n",
       "    <tr>\n",
       "      <th>2</th>\n",
       "      <td>Partly Cloudy</td>\n",
       "      <td>rain</td>\n",
       "      <td>15</td>\n",
       "      <td>5.0</td>\n",
       "      <td>0.847434</td>\n",
       "      <td>8.0</td>\n",
       "      <td>291.0</td>\n",
       "      <td>2.0</td>\n",
       "      <td>1036.0</td>\n",
       "      <td>Frost</td>\n",
       "      <td>1291</td>\n",
       "    </tr>\n",
       "    <tr>\n",
       "      <th>3</th>\n",
       "      <td>Partly Cloudy</td>\n",
       "      <td>rain</td>\n",
       "      <td>33</td>\n",
       "      <td>-12.0</td>\n",
       "      <td>0.763775</td>\n",
       "      <td>32.0</td>\n",
       "      <td>32.0</td>\n",
       "      <td>8.0</td>\n",
       "      <td>1004.0</td>\n",
       "      <td>Dry</td>\n",
       "      <td>1433</td>\n",
       "    </tr>\n",
       "    <tr>\n",
       "      <th>4</th>\n",
       "      <td>Partly Cloudy</td>\n",
       "      <td>snow</td>\n",
       "      <td>30</td>\n",
       "      <td>36.0</td>\n",
       "      <td>0.255069</td>\n",
       "      <td>15.0</td>\n",
       "      <td>130.0</td>\n",
       "      <td>3.0</td>\n",
       "      <td>1016.0</td>\n",
       "      <td>Dry</td>\n",
       "      <td>1410</td>\n",
       "    </tr>\n",
       "    <tr>\n",
       "      <th>5</th>\n",
       "      <td>Partly Cloudy</td>\n",
       "      <td>snow</td>\n",
       "      <td>27</td>\n",
       "      <td>30.0</td>\n",
       "      <td>0.495435</td>\n",
       "      <td>63.0</td>\n",
       "      <td>60.0</td>\n",
       "      <td>15.0</td>\n",
       "      <td>1007.0</td>\n",
       "      <td>Fog</td>\n",
       "      <td>1391</td>\n",
       "    </tr>\n",
       "    <tr>\n",
       "      <th>6</th>\n",
       "      <td>Partly Cloudy</td>\n",
       "      <td>snow</td>\n",
       "      <td>-17</td>\n",
       "      <td>33.0</td>\n",
       "      <td>0.449491</td>\n",
       "      <td>57.0</td>\n",
       "      <td>253.0</td>\n",
       "      <td>14.0</td>\n",
       "      <td>1031.0</td>\n",
       "      <td>Fog</td>\n",
       "      <td>1032</td>\n",
       "    </tr>\n",
       "    <tr>\n",
       "      <th>7</th>\n",
       "      <td>Light Rain</td>\n",
       "      <td>snow</td>\n",
       "      <td>-5</td>\n",
       "      <td>21.0</td>\n",
       "      <td>0.651593</td>\n",
       "      <td>60.0</td>\n",
       "      <td>230.0</td>\n",
       "      <td>15.0</td>\n",
       "      <td>1028.0</td>\n",
       "      <td>Fog</td>\n",
       "      <td>1130</td>\n",
       "    </tr>\n",
       "    <tr>\n",
       "      <th>8</th>\n",
       "      <td>Light Rain</td>\n",
       "      <td>snow</td>\n",
       "      <td>-14</td>\n",
       "      <td>-1.0</td>\n",
       "      <td>0.788723</td>\n",
       "      <td>48.0</td>\n",
       "      <td>241.0</td>\n",
       "      <td>12.0</td>\n",
       "      <td>1030.0</td>\n",
       "      <td>Mist</td>\n",
       "      <td>1060</td>\n",
       "    </tr>\n",
       "    <tr>\n",
       "      <th>9</th>\n",
       "      <td>Light Rain</td>\n",
       "      <td>snow</td>\n",
       "      <td>10</td>\n",
       "      <td>-15.0</td>\n",
       "      <td>0.093860</td>\n",
       "      <td>26.0</td>\n",
       "      <td>333.0</td>\n",
       "      <td>6.0</td>\n",
       "      <td>1041.0</td>\n",
       "      <td>Fog</td>\n",
       "      <td>1253</td>\n",
       "    </tr>\n",
       "    <tr>\n",
       "      <th>10</th>\n",
       "      <td>Light Rain</td>\n",
       "      <td>snow</td>\n",
       "      <td>27</td>\n",
       "      <td>35.0</td>\n",
       "      <td>0.028347</td>\n",
       "      <td>12.0</td>\n",
       "      <td>194.0</td>\n",
       "      <td>3.0</td>\n",
       "      <td>1024.0</td>\n",
       "      <td>Fog</td>\n",
       "      <td>1389</td>\n",
       "    </tr>\n",
       "  </tbody>\n",
       "</table>\n",
       "</div>"
      ],
      "text/plain": [
       "    Cloud_Condition Rain_OR_SNOW Temperature (C)  Apparent Temperature (C)  \\\n",
       "Day                                                                          \n",
       "1     Partly Cloudy         rain             -13                     -19.0   \n",
       "2     Partly Cloudy         rain              15                       5.0   \n",
       "3     Partly Cloudy         rain              33                     -12.0   \n",
       "4     Partly Cloudy         snow              30                      36.0   \n",
       "5     Partly Cloudy         snow              27                      30.0   \n",
       "6     Partly Cloudy         snow             -17                      33.0   \n",
       "7        Light Rain         snow              -5                      21.0   \n",
       "8        Light Rain         snow             -14                      -1.0   \n",
       "9        Light Rain         snow              10                     -15.0   \n",
       "10       Light Rain         snow              27                      35.0   \n",
       "\n",
       "     Humidity  Wind Speed (km/h)  Wind Bearing (degrees)  Visibility (km)  \\\n",
       "Day                                                                         \n",
       "1    0.134364               17.0                    68.0              4.0   \n",
       "2    0.847434                8.0                   291.0              2.0   \n",
       "3    0.763775               32.0                    32.0              8.0   \n",
       "4    0.255069               15.0                   130.0              3.0   \n",
       "5    0.495435               63.0                    60.0             15.0   \n",
       "6    0.449491               57.0                   253.0             14.0   \n",
       "7    0.651593               60.0                   230.0             15.0   \n",
       "8    0.788723               48.0                   241.0             12.0   \n",
       "9    0.093860               26.0                   333.0              6.0   \n",
       "10   0.028347               12.0                   194.0              3.0   \n",
       "\n",
       "     Pressure (millibars) Condensation  Solar irradiance intensity  \n",
       "Day                                                                 \n",
       "1                  1008.0        Frost                        1068  \n",
       "2                  1036.0        Frost                        1291  \n",
       "3                  1004.0          Dry                        1433  \n",
       "4                  1016.0          Dry                        1410  \n",
       "5                  1007.0          Fog                        1391  \n",
       "6                  1031.0          Fog                        1032  \n",
       "7                  1028.0          Fog                        1130  \n",
       "8                  1030.0         Mist                        1060  \n",
       "9                  1041.0          Fog                        1253  \n",
       "10                 1024.0          Fog                        1389  "
      ]
     },
     "execution_count": 4,
     "metadata": {},
     "output_type": "execute_result"
    }
   ],
   "source": [
    "print(train.shape)\n",
    "train.head(10)"
   ]
  },
  {
   "cell_type": "code",
   "execution_count": 5,
   "id": "6432451a",
   "metadata": {},
   "outputs": [
    {
     "data": {
      "text/plain": [
       "Index(['Cloud_Condition', 'Rain_OR_SNOW', 'Temperature (C)',\n",
       "       'Apparent Temperature (C)', 'Humidity', 'Wind Speed (km/h)',\n",
       "       'Wind Bearing (degrees)', 'Visibility (km)', 'Pressure (millibars)',\n",
       "       'Condensation', 'Solar irradiance intensity'],\n",
       "      dtype='object')"
      ]
     },
     "execution_count": 5,
     "metadata": {},
     "output_type": "execute_result"
    }
   ],
   "source": [
    "train.columns"
   ]
  },
  {
   "cell_type": "code",
   "execution_count": 6,
   "id": "a97c7b33",
   "metadata": {},
   "outputs": [],
   "source": [
    "train=train[['Rain_OR_SNOW', 'Temperature (C)',\n",
    "       'Apparent Temperature (C)', 'Humidity', 'Wind Speed (km/h)',\n",
    "       'Wind Bearing (degrees)', 'Visibility (km)', 'Pressure (millibars)',\n",
    "       'Condensation', 'Solar irradiance intensity', 'Cloud_Condition']]"
   ]
  },
  {
   "cell_type": "code",
   "execution_count": 7,
   "id": "e0619fac",
   "metadata": {},
   "outputs": [
    {
     "name": "stdout",
     "output_type": "stream",
     "text": [
      "(71428, 11)\n"
     ]
    },
    {
     "data": {
      "text/html": [
       "<div>\n",
       "<style scoped>\n",
       "    .dataframe tbody tr th:only-of-type {\n",
       "        vertical-align: middle;\n",
       "    }\n",
       "\n",
       "    .dataframe tbody tr th {\n",
       "        vertical-align: top;\n",
       "    }\n",
       "\n",
       "    .dataframe thead th {\n",
       "        text-align: right;\n",
       "    }\n",
       "</style>\n",
       "<table border=\"1\" class=\"dataframe\">\n",
       "  <thead>\n",
       "    <tr style=\"text-align: right;\">\n",
       "      <th></th>\n",
       "      <th>Rain_OR_SNOW</th>\n",
       "      <th>Temperature (C)</th>\n",
       "      <th>Apparent Temperature (C)</th>\n",
       "      <th>Humidity</th>\n",
       "      <th>Wind Speed (km/h)</th>\n",
       "      <th>Wind Bearing (degrees)</th>\n",
       "      <th>Visibility (km)</th>\n",
       "      <th>Pressure (millibars)</th>\n",
       "      <th>Condensation</th>\n",
       "      <th>Solar irradiance intensity</th>\n",
       "      <th>Cloud_Condition</th>\n",
       "    </tr>\n",
       "    <tr>\n",
       "      <th>Day</th>\n",
       "      <th></th>\n",
       "      <th></th>\n",
       "      <th></th>\n",
       "      <th></th>\n",
       "      <th></th>\n",
       "      <th></th>\n",
       "      <th></th>\n",
       "      <th></th>\n",
       "      <th></th>\n",
       "      <th></th>\n",
       "      <th></th>\n",
       "    </tr>\n",
       "  </thead>\n",
       "  <tbody>\n",
       "    <tr>\n",
       "      <th>1</th>\n",
       "      <td>rain</td>\n",
       "      <td>-13</td>\n",
       "      <td>-19.0</td>\n",
       "      <td>0.134364</td>\n",
       "      <td>17.0</td>\n",
       "      <td>68.0</td>\n",
       "      <td>4.0</td>\n",
       "      <td>1008.0</td>\n",
       "      <td>Frost</td>\n",
       "      <td>1068</td>\n",
       "      <td>Partly Cloudy</td>\n",
       "    </tr>\n",
       "    <tr>\n",
       "      <th>2</th>\n",
       "      <td>rain</td>\n",
       "      <td>15</td>\n",
       "      <td>5.0</td>\n",
       "      <td>0.847434</td>\n",
       "      <td>8.0</td>\n",
       "      <td>291.0</td>\n",
       "      <td>2.0</td>\n",
       "      <td>1036.0</td>\n",
       "      <td>Frost</td>\n",
       "      <td>1291</td>\n",
       "      <td>Partly Cloudy</td>\n",
       "    </tr>\n",
       "    <tr>\n",
       "      <th>3</th>\n",
       "      <td>rain</td>\n",
       "      <td>33</td>\n",
       "      <td>-12.0</td>\n",
       "      <td>0.763775</td>\n",
       "      <td>32.0</td>\n",
       "      <td>32.0</td>\n",
       "      <td>8.0</td>\n",
       "      <td>1004.0</td>\n",
       "      <td>Dry</td>\n",
       "      <td>1433</td>\n",
       "      <td>Partly Cloudy</td>\n",
       "    </tr>\n",
       "    <tr>\n",
       "      <th>4</th>\n",
       "      <td>snow</td>\n",
       "      <td>30</td>\n",
       "      <td>36.0</td>\n",
       "      <td>0.255069</td>\n",
       "      <td>15.0</td>\n",
       "      <td>130.0</td>\n",
       "      <td>3.0</td>\n",
       "      <td>1016.0</td>\n",
       "      <td>Dry</td>\n",
       "      <td>1410</td>\n",
       "      <td>Partly Cloudy</td>\n",
       "    </tr>\n",
       "    <tr>\n",
       "      <th>5</th>\n",
       "      <td>snow</td>\n",
       "      <td>27</td>\n",
       "      <td>30.0</td>\n",
       "      <td>0.495435</td>\n",
       "      <td>63.0</td>\n",
       "      <td>60.0</td>\n",
       "      <td>15.0</td>\n",
       "      <td>1007.0</td>\n",
       "      <td>Fog</td>\n",
       "      <td>1391</td>\n",
       "      <td>Partly Cloudy</td>\n",
       "    </tr>\n",
       "    <tr>\n",
       "      <th>6</th>\n",
       "      <td>snow</td>\n",
       "      <td>-17</td>\n",
       "      <td>33.0</td>\n",
       "      <td>0.449491</td>\n",
       "      <td>57.0</td>\n",
       "      <td>253.0</td>\n",
       "      <td>14.0</td>\n",
       "      <td>1031.0</td>\n",
       "      <td>Fog</td>\n",
       "      <td>1032</td>\n",
       "      <td>Partly Cloudy</td>\n",
       "    </tr>\n",
       "    <tr>\n",
       "      <th>7</th>\n",
       "      <td>snow</td>\n",
       "      <td>-5</td>\n",
       "      <td>21.0</td>\n",
       "      <td>0.651593</td>\n",
       "      <td>60.0</td>\n",
       "      <td>230.0</td>\n",
       "      <td>15.0</td>\n",
       "      <td>1028.0</td>\n",
       "      <td>Fog</td>\n",
       "      <td>1130</td>\n",
       "      <td>Light Rain</td>\n",
       "    </tr>\n",
       "    <tr>\n",
       "      <th>8</th>\n",
       "      <td>snow</td>\n",
       "      <td>-14</td>\n",
       "      <td>-1.0</td>\n",
       "      <td>0.788723</td>\n",
       "      <td>48.0</td>\n",
       "      <td>241.0</td>\n",
       "      <td>12.0</td>\n",
       "      <td>1030.0</td>\n",
       "      <td>Mist</td>\n",
       "      <td>1060</td>\n",
       "      <td>Light Rain</td>\n",
       "    </tr>\n",
       "    <tr>\n",
       "      <th>9</th>\n",
       "      <td>snow</td>\n",
       "      <td>10</td>\n",
       "      <td>-15.0</td>\n",
       "      <td>0.093860</td>\n",
       "      <td>26.0</td>\n",
       "      <td>333.0</td>\n",
       "      <td>6.0</td>\n",
       "      <td>1041.0</td>\n",
       "      <td>Fog</td>\n",
       "      <td>1253</td>\n",
       "      <td>Light Rain</td>\n",
       "    </tr>\n",
       "    <tr>\n",
       "      <th>10</th>\n",
       "      <td>snow</td>\n",
       "      <td>27</td>\n",
       "      <td>35.0</td>\n",
       "      <td>0.028347</td>\n",
       "      <td>12.0</td>\n",
       "      <td>194.0</td>\n",
       "      <td>3.0</td>\n",
       "      <td>1024.0</td>\n",
       "      <td>Fog</td>\n",
       "      <td>1389</td>\n",
       "      <td>Light Rain</td>\n",
       "    </tr>\n",
       "  </tbody>\n",
       "</table>\n",
       "</div>"
      ],
      "text/plain": [
       "    Rain_OR_SNOW Temperature (C)  Apparent Temperature (C)  Humidity  \\\n",
       "Day                                                                    \n",
       "1           rain             -13                     -19.0  0.134364   \n",
       "2           rain              15                       5.0  0.847434   \n",
       "3           rain              33                     -12.0  0.763775   \n",
       "4           snow              30                      36.0  0.255069   \n",
       "5           snow              27                      30.0  0.495435   \n",
       "6           snow             -17                      33.0  0.449491   \n",
       "7           snow              -5                      21.0  0.651593   \n",
       "8           snow             -14                      -1.0  0.788723   \n",
       "9           snow              10                     -15.0  0.093860   \n",
       "10          snow              27                      35.0  0.028347   \n",
       "\n",
       "     Wind Speed (km/h)  Wind Bearing (degrees)  Visibility (km)  \\\n",
       "Day                                                               \n",
       "1                 17.0                    68.0              4.0   \n",
       "2                  8.0                   291.0              2.0   \n",
       "3                 32.0                    32.0              8.0   \n",
       "4                 15.0                   130.0              3.0   \n",
       "5                 63.0                    60.0             15.0   \n",
       "6                 57.0                   253.0             14.0   \n",
       "7                 60.0                   230.0             15.0   \n",
       "8                 48.0                   241.0             12.0   \n",
       "9                 26.0                   333.0              6.0   \n",
       "10                12.0                   194.0              3.0   \n",
       "\n",
       "     Pressure (millibars) Condensation  Solar irradiance intensity  \\\n",
       "Day                                                                  \n",
       "1                  1008.0        Frost                        1068   \n",
       "2                  1036.0        Frost                        1291   \n",
       "3                  1004.0          Dry                        1433   \n",
       "4                  1016.0          Dry                        1410   \n",
       "5                  1007.0          Fog                        1391   \n",
       "6                  1031.0          Fog                        1032   \n",
       "7                  1028.0          Fog                        1130   \n",
       "8                  1030.0         Mist                        1060   \n",
       "9                  1041.0          Fog                        1253   \n",
       "10                 1024.0          Fog                        1389   \n",
       "\n",
       "    Cloud_Condition  \n",
       "Day                  \n",
       "1     Partly Cloudy  \n",
       "2     Partly Cloudy  \n",
       "3     Partly Cloudy  \n",
       "4     Partly Cloudy  \n",
       "5     Partly Cloudy  \n",
       "6     Partly Cloudy  \n",
       "7        Light Rain  \n",
       "8        Light Rain  \n",
       "9        Light Rain  \n",
       "10       Light Rain  "
      ]
     },
     "execution_count": 7,
     "metadata": {},
     "output_type": "execute_result"
    }
   ],
   "source": [
    "print(train.shape)\n",
    "train.head(10)"
   ]
  },
  {
   "cell_type": "code",
   "execution_count": 8,
   "id": "09f7250a",
   "metadata": {},
   "outputs": [
    {
     "name": "stdout",
     "output_type": "stream",
     "text": [
      "(16452, 10)\n"
     ]
    },
    {
     "data": {
      "text/html": [
       "<div>\n",
       "<style scoped>\n",
       "    .dataframe tbody tr th:only-of-type {\n",
       "        vertical-align: middle;\n",
       "    }\n",
       "\n",
       "    .dataframe tbody tr th {\n",
       "        vertical-align: top;\n",
       "    }\n",
       "\n",
       "    .dataframe thead th {\n",
       "        text-align: right;\n",
       "    }\n",
       "</style>\n",
       "<table border=\"1\" class=\"dataframe\">\n",
       "  <thead>\n",
       "    <tr style=\"text-align: right;\">\n",
       "      <th></th>\n",
       "      <th>Rain_OR_SNOW</th>\n",
       "      <th>Temperature (C)</th>\n",
       "      <th>Apparent Temperature (C)</th>\n",
       "      <th>Humidity</th>\n",
       "      <th>Wind Speed (km/h)</th>\n",
       "      <th>Wind Bearing (degrees)</th>\n",
       "      <th>Visibility (km)</th>\n",
       "      <th>Pressure (millibars)</th>\n",
       "      <th>Condensation</th>\n",
       "      <th>Solar irradiance intensity</th>\n",
       "    </tr>\n",
       "    <tr>\n",
       "      <th>Day</th>\n",
       "      <th></th>\n",
       "      <th></th>\n",
       "      <th></th>\n",
       "      <th></th>\n",
       "      <th></th>\n",
       "      <th></th>\n",
       "      <th></th>\n",
       "      <th></th>\n",
       "      <th></th>\n",
       "      <th></th>\n",
       "    </tr>\n",
       "  </thead>\n",
       "  <tbody>\n",
       "    <tr>\n",
       "      <th>80002</th>\n",
       "      <td>rain</td>\n",
       "      <td>1.0</td>\n",
       "      <td>0.0</td>\n",
       "      <td>0.078150</td>\n",
       "      <td>17.0</td>\n",
       "      <td>300</td>\n",
       "      <td>10.0</td>\n",
       "      <td>1029.0</td>\n",
       "      <td>Fog</td>\n",
       "      <td>1399</td>\n",
       "    </tr>\n",
       "    <tr>\n",
       "      <th>80003</th>\n",
       "      <td>rain</td>\n",
       "      <td>-3.0</td>\n",
       "      <td>25.0</td>\n",
       "      <td>0.653251</td>\n",
       "      <td>25.0</td>\n",
       "      <td>322</td>\n",
       "      <td>0.0</td>\n",
       "      <td>1009.0</td>\n",
       "      <td>Dry</td>\n",
       "      <td>1468</td>\n",
       "    </tr>\n",
       "    <tr>\n",
       "      <th>80004</th>\n",
       "      <td>rain</td>\n",
       "      <td>18.0</td>\n",
       "      <td>17.0</td>\n",
       "      <td>0.930970</td>\n",
       "      <td>37.0</td>\n",
       "      <td>330</td>\n",
       "      <td>12.0</td>\n",
       "      <td>1045.0</td>\n",
       "      <td>Dry</td>\n",
       "      <td>1152</td>\n",
       "    </tr>\n",
       "    <tr>\n",
       "      <th>80005</th>\n",
       "      <td>rain</td>\n",
       "      <td>33.0</td>\n",
       "      <td>-12.0</td>\n",
       "      <td>0.778844</td>\n",
       "      <td>50.0</td>\n",
       "      <td>350</td>\n",
       "      <td>3.0</td>\n",
       "      <td>1022.0</td>\n",
       "      <td>Fog</td>\n",
       "      <td>1003</td>\n",
       "    </tr>\n",
       "    <tr>\n",
       "      <th>80006</th>\n",
       "      <td>rain</td>\n",
       "      <td>25.0</td>\n",
       "      <td>-19.0</td>\n",
       "      <td>0.491523</td>\n",
       "      <td>62.0</td>\n",
       "      <td>300</td>\n",
       "      <td>12.0</td>\n",
       "      <td>1042.0</td>\n",
       "      <td>Fog</td>\n",
       "      <td>1228</td>\n",
       "    </tr>\n",
       "    <tr>\n",
       "      <th>80007</th>\n",
       "      <td>rain</td>\n",
       "      <td>8.0</td>\n",
       "      <td>35.0</td>\n",
       "      <td>0.687047</td>\n",
       "      <td>33.0</td>\n",
       "      <td>298</td>\n",
       "      <td>5.0</td>\n",
       "      <td>1009.0</td>\n",
       "      <td>Dry</td>\n",
       "      <td>1067</td>\n",
       "    </tr>\n",
       "    <tr>\n",
       "      <th>80008</th>\n",
       "      <td>rain</td>\n",
       "      <td>17.0</td>\n",
       "      <td>2.0</td>\n",
       "      <td>0.860957</td>\n",
       "      <td>35.0</td>\n",
       "      <td>71</td>\n",
       "      <td>15.0</td>\n",
       "      <td>1028.0</td>\n",
       "      <td>Dry</td>\n",
       "      <td>1027</td>\n",
       "    </tr>\n",
       "    <tr>\n",
       "      <th>80009</th>\n",
       "      <td>snow</td>\n",
       "      <td>8.0</td>\n",
       "      <td>0.0</td>\n",
       "      <td>0.344100</td>\n",
       "      <td>4.0</td>\n",
       "      <td>159</td>\n",
       "      <td>8.0</td>\n",
       "      <td>1028.0</td>\n",
       "      <td>Fog</td>\n",
       "      <td>1112</td>\n",
       "    </tr>\n",
       "    <tr>\n",
       "      <th>80010</th>\n",
       "      <td>snow</td>\n",
       "      <td>13.0</td>\n",
       "      <td>-20.0</td>\n",
       "      <td>0.983677</td>\n",
       "      <td>41.0</td>\n",
       "      <td>155</td>\n",
       "      <td>11.0</td>\n",
       "      <td>1026.0</td>\n",
       "      <td>Fog</td>\n",
       "      <td>1459</td>\n",
       "    </tr>\n",
       "    <tr>\n",
       "      <th>80011</th>\n",
       "      <td>snow</td>\n",
       "      <td>-12.0</td>\n",
       "      <td>37.0</td>\n",
       "      <td>0.471538</td>\n",
       "      <td>55.0</td>\n",
       "      <td>68</td>\n",
       "      <td>14.0</td>\n",
       "      <td>1038.0</td>\n",
       "      <td>Fog</td>\n",
       "      <td>1363</td>\n",
       "    </tr>\n",
       "  </tbody>\n",
       "</table>\n",
       "</div>"
      ],
      "text/plain": [
       "      Rain_OR_SNOW  Temperature (C)  Apparent Temperature (C)  Humidity  \\\n",
       "Day                                                                       \n",
       "80002         rain              1.0                       0.0  0.078150   \n",
       "80003         rain             -3.0                      25.0  0.653251   \n",
       "80004         rain             18.0                      17.0  0.930970   \n",
       "80005         rain             33.0                     -12.0  0.778844   \n",
       "80006         rain             25.0                     -19.0  0.491523   \n",
       "80007         rain              8.0                      35.0  0.687047   \n",
       "80008         rain             17.0                       2.0  0.860957   \n",
       "80009         snow              8.0                       0.0  0.344100   \n",
       "80010         snow             13.0                     -20.0  0.983677   \n",
       "80011         snow            -12.0                      37.0  0.471538   \n",
       "\n",
       "       Wind Speed (km/h)  Wind Bearing (degrees)  Visibility (km)  \\\n",
       "Day                                                                 \n",
       "80002               17.0                     300             10.0   \n",
       "80003               25.0                     322              0.0   \n",
       "80004               37.0                     330             12.0   \n",
       "80005               50.0                     350              3.0   \n",
       "80006               62.0                     300             12.0   \n",
       "80007               33.0                     298              5.0   \n",
       "80008               35.0                      71             15.0   \n",
       "80009                4.0                     159              8.0   \n",
       "80010               41.0                     155             11.0   \n",
       "80011               55.0                      68             14.0   \n",
       "\n",
       "       Pressure (millibars) Condensation  Solar irradiance intensity  \n",
       "Day                                                                   \n",
       "80002                1029.0          Fog                        1399  \n",
       "80003                1009.0          Dry                        1468  \n",
       "80004                1045.0          Dry                        1152  \n",
       "80005                1022.0          Fog                        1003  \n",
       "80006                1042.0          Fog                        1228  \n",
       "80007                1009.0          Dry                        1067  \n",
       "80008                1028.0          Dry                        1027  \n",
       "80009                1028.0          Fog                        1112  \n",
       "80010                1026.0          Fog                        1459  \n",
       "80011                1038.0          Fog                        1363  "
      ]
     },
     "execution_count": 8,
     "metadata": {},
     "output_type": "execute_result"
    }
   ],
   "source": [
    "print(test.shape)\n",
    "test.head(10)"
   ]
  },
  {
   "cell_type": "code",
   "execution_count": 9,
   "id": "aa1d5f72",
   "metadata": {},
   "outputs": [
    {
     "name": "stdout",
     "output_type": "stream",
     "text": [
      "<class 'pandas.core.frame.DataFrame'>\n",
      "Int64Index: 71428 entries, 1 to 80000\n",
      "Data columns (total 11 columns):\n",
      " #   Column                      Non-Null Count  Dtype  \n",
      "---  ------                      --------------  -----  \n",
      " 0   Rain_OR_SNOW                71313 non-null  object \n",
      " 1   Temperature (C)             71176 non-null  object \n",
      " 2   Apparent Temperature (C)    71425 non-null  float64\n",
      " 3   Humidity                    71427 non-null  float64\n",
      " 4   Wind Speed (km/h)           71426 non-null  float64\n",
      " 5   Wind Bearing (degrees)      71391 non-null  float64\n",
      " 6   Visibility (km)             71408 non-null  float64\n",
      " 7   Pressure (millibars)        71363 non-null  float64\n",
      " 8   Condensation                71428 non-null  object \n",
      " 9   Solar irradiance intensity  71428 non-null  int64  \n",
      " 10  Cloud_Condition             71428 non-null  object \n",
      "dtypes: float64(6), int64(1), object(4)\n",
      "memory usage: 6.5+ MB\n"
     ]
    }
   ],
   "source": [
    "train.info()"
   ]
  },
  {
   "cell_type": "code",
   "execution_count": 10,
   "id": "c3c88d5c",
   "metadata": {},
   "outputs": [
    {
     "data": {
      "text/plain": [
       "array(['-13', '15', '33', '30', '27', '-17', '-5', '-14', '10', '7', '9',\n",
       "       '20', '3', '29', '-8', '-15', '-20', '36', '32', '6', '17', '28',\n",
       "       '-21', '23', '-4', '25', '-7', '16', '39', '-1', '13', '35', '22',\n",
       "       '12', '14', '1', '8', '-3', '38', '5', '37', '-10', '19', '34',\n",
       "       '26', '0', '24', '11', '21', '-9', '-2', '4', '-19', '-6', '2',\n",
       "       '-16', '-11', '18', '31', '-18', '-12', nan, '-', 16, 30, 17, -13,\n",
       "       36, 4, 9, 10, 13, 27, -8, -16, 34, 2, -11, -9, -10, -5, 39, 14, 7,\n",
       "       20, -3, 15, 24, 35, 25, -12, 26, -14, 19, 5, 38, -4, -17, 0, 8, 21,\n",
       "       -20, -21, 37, 22, 11, 28, 12, -18, 29, 1, -2, -7, -6, 33, 3, 32,\n",
       "       -1, 6, -15, 18, 23, 31, -19], dtype=object)"
      ]
     },
     "execution_count": 10,
     "metadata": {},
     "output_type": "execute_result"
    }
   ],
   "source": [
    "train[\"Temperature (C)\"].unique()"
   ]
  },
  {
   "cell_type": "code",
   "execution_count": 11,
   "id": "8d6c312a",
   "metadata": {},
   "outputs": [],
   "source": [
    "train['Temperature (C)'].replace({'-':np.nan},inplace=True)"
   ]
  },
  {
   "cell_type": "code",
   "execution_count": 12,
   "id": "663eda91",
   "metadata": {},
   "outputs": [
    {
     "name": "stdout",
     "output_type": "stream",
     "text": [
      "['-13' '15' '33' '30' '27' '-17' '-5' '-14' '10' '7' '9' '20' '3' '29'\n",
      " '-8' '-15' '-20' '36' '32' '6' '17' '28' '-21' '23' '-4' '25' '-7' '16'\n",
      " '39' '-1' '13' '35' '22' '12' '14' '1' '8' '-3' '38' '5' '37' '-10' '19'\n",
      " '34' '26' '0' '24' '11' '21' '-9' '-2' '4' '-19' '-6' '2' '-16' '-11'\n",
      " '18' '31' '-18' '-12' nan 16 30 17 -13 36 4 9 10 13 27 -8 -16 34 2 -11 -9\n",
      " -10 -5 39 14 7 20 -3 15 24 35 25 -12 26 -14 19 5 38 -4 -17 0 8 21 -20 -21\n",
      " 37 22 11 28 12 -18 29 1 -2 -7 -6 33 3 32 -1 6 -15 18 23 31 -19]\n"
     ]
    }
   ],
   "source": [
    "print(train['Temperature (C)'].unique())"
   ]
  },
  {
   "cell_type": "code",
   "execution_count": 13,
   "id": "685a05a4",
   "metadata": {},
   "outputs": [
    {
     "name": "stdout",
     "output_type": "stream",
     "text": [
      "object\n"
     ]
    }
   ],
   "source": [
    "print(train['Temperature (C)'].dtype)"
   ]
  },
  {
   "cell_type": "code",
   "execution_count": 14,
   "id": "8f5178e6",
   "metadata": {},
   "outputs": [],
   "source": [
    "train[\"Temperature (C)\"]=train[\"Temperature (C)\"].astype(float)"
   ]
  },
  {
   "cell_type": "code",
   "execution_count": 15,
   "id": "b44baea1",
   "metadata": {},
   "outputs": [
    {
     "name": "stdout",
     "output_type": "stream",
     "text": [
      "Temperature (C) : float64\n"
     ]
    }
   ],
   "source": [
    "print('Temperature (C) :',train['Temperature (C)'].dtype)"
   ]
  },
  {
   "cell_type": "code",
   "execution_count": 16,
   "id": "745d8662",
   "metadata": {},
   "outputs": [
    {
     "data": {
      "text/plain": [
       "Rain_OR_SNOW                  115\n",
       "Temperature (C)               253\n",
       "Apparent Temperature (C)        3\n",
       "Humidity                        1\n",
       "Wind Speed (km/h)               2\n",
       "Wind Bearing (degrees)         37\n",
       "Visibility (km)                20\n",
       "Pressure (millibars)           65\n",
       "Condensation                    0\n",
       "Solar irradiance intensity      0\n",
       "Cloud_Condition                 0\n",
       "dtype: int64"
      ]
     },
     "execution_count": 16,
     "metadata": {},
     "output_type": "execute_result"
    }
   ],
   "source": [
    "train.isnull().sum()"
   ]
  },
  {
   "cell_type": "code",
   "execution_count": 17,
   "id": "dbf9a3ec",
   "metadata": {},
   "outputs": [],
   "source": [
    "train['Rain_OR_SNOW'].fillna(train['Rain_OR_SNOW'].mode()[0],inplace=True)\n",
    "train['Temperature (C)'].fillna(train['Temperature (C)'].mean(),inplace=True)\n",
    "train['Apparent Temperature (C)'].fillna(train['Apparent Temperature (C)'].mean(),inplace=True)\n",
    "train['Humidity'].fillna(train['Humidity'].mean(),inplace=True)\n",
    "train['Wind Speed (km/h)'].fillna(train['Wind Speed (km/h)'].mean(),inplace=True)\n",
    "train['Wind Bearing (degrees)'].fillna(train['Wind Bearing (degrees)'].mean(),inplace=True)\n",
    "train['Visibility (km)'].fillna(train['Visibility (km)'].mean(),inplace=True)\n",
    "train['Pressure (millibars)'].fillna(train['Pressure (millibars)'].mean(),inplace=True)"
   ]
  },
  {
   "cell_type": "code",
   "execution_count": 18,
   "id": "bc7bf5f5",
   "metadata": {},
   "outputs": [
    {
     "data": {
      "text/plain": [
       "Rain_OR_SNOW                  0\n",
       "Temperature (C)               0\n",
       "Apparent Temperature (C)      0\n",
       "Humidity                      0\n",
       "Wind Speed (km/h)             0\n",
       "Wind Bearing (degrees)        0\n",
       "Visibility (km)               0\n",
       "Pressure (millibars)          0\n",
       "Condensation                  0\n",
       "Solar irradiance intensity    0\n",
       "Cloud_Condition               0\n",
       "dtype: int64"
      ]
     },
     "execution_count": 18,
     "metadata": {},
     "output_type": "execute_result"
    }
   ],
   "source": [
    "train.isnull().sum()"
   ]
  },
  {
   "cell_type": "code",
   "execution_count": 19,
   "id": "0c82299b",
   "metadata": {},
   "outputs": [
    {
     "name": "stdout",
     "output_type": "stream",
     "text": [
      "<class 'pandas.core.frame.DataFrame'>\n",
      "Int64Index: 16452 entries, 80002 to 96453\n",
      "Data columns (total 10 columns):\n",
      " #   Column                      Non-Null Count  Dtype  \n",
      "---  ------                      --------------  -----  \n",
      " 0   Rain_OR_SNOW                16452 non-null  object \n",
      " 1   Temperature (C)             16452 non-null  float64\n",
      " 2   Apparent Temperature (C)    16452 non-null  float64\n",
      " 3   Humidity                    16452 non-null  float64\n",
      " 4   Wind Speed (km/h)           16452 non-null  float64\n",
      " 5   Wind Bearing (degrees)      16452 non-null  int64  \n",
      " 6   Visibility (km)             16452 non-null  float64\n",
      " 7   Pressure (millibars)        16452 non-null  float64\n",
      " 8   Condensation                16452 non-null  object \n",
      " 9   Solar irradiance intensity  16452 non-null  int64  \n",
      "dtypes: float64(6), int64(2), object(2)\n",
      "memory usage: 1.4+ MB\n"
     ]
    }
   ],
   "source": [
    "test.info()"
   ]
  },
  {
   "cell_type": "code",
   "execution_count": 20,
   "id": "9772a4a6",
   "metadata": {},
   "outputs": [
    {
     "data": {
      "text/plain": [
       "Rain_OR_SNOW                  0\n",
       "Temperature (C)               0\n",
       "Apparent Temperature (C)      0\n",
       "Humidity                      0\n",
       "Wind Speed (km/h)             0\n",
       "Wind Bearing (degrees)        0\n",
       "Visibility (km)               0\n",
       "Pressure (millibars)          0\n",
       "Condensation                  0\n",
       "Solar irradiance intensity    0\n",
       "dtype: int64"
      ]
     },
     "execution_count": 20,
     "metadata": {},
     "output_type": "execute_result"
    }
   ],
   "source": [
    "test.isnull().sum()"
   ]
  },
  {
   "cell_type": "code",
   "execution_count": 21,
   "id": "beefb5ed",
   "metadata": {},
   "outputs": [],
   "source": [
    "train_categorical=[]\n",
    "train_numerical=[]\n",
    "\n",
    "for x in train:\n",
    "    if train[x].dtype=='object':\n",
    "        train_categorical.append(x)\n",
    "    elif train[x].dtype=='int64' or train[x].dtype=='float64':\n",
    "        train_numerical.append(x)"
   ]
  },
  {
   "cell_type": "code",
   "execution_count": 22,
   "id": "fc747d20",
   "metadata": {},
   "outputs": [
    {
     "data": {
      "text/plain": [
       "['Rain_OR_SNOW', 'Condensation', 'Cloud_Condition']"
      ]
     },
     "execution_count": 22,
     "metadata": {},
     "output_type": "execute_result"
    }
   ],
   "source": [
    "train_categorical"
   ]
  },
  {
   "cell_type": "code",
   "execution_count": 23,
   "id": "a3f1651a",
   "metadata": {},
   "outputs": [],
   "source": [
    "test_categorical=[]\n",
    "test_numerical=[]\n",
    "\n",
    "for x in test:\n",
    "    if test[x].dtype=='object':\n",
    "        test_categorical.append(x)\n",
    "    elif test[x].dtype=='int64' or test[x].dtype=='float64':\n",
    "        test_numerical.append(x)"
   ]
  },
  {
   "cell_type": "code",
   "execution_count": 24,
   "id": "ab94d6d0",
   "metadata": {},
   "outputs": [
    {
     "data": {
      "text/plain": [
       "['Rain_OR_SNOW', 'Condensation']"
      ]
     },
     "execution_count": 24,
     "metadata": {},
     "output_type": "execute_result"
    }
   ],
   "source": [
    "test_categorical"
   ]
  },
  {
   "cell_type": "code",
   "execution_count": 25,
   "id": "5a224f32",
   "metadata": {},
   "outputs": [
    {
     "data": {
      "text/plain": [
       "Mist     21685\n",
       "Fog      21222\n",
       "Frost    14394\n",
       "Dry      14127\n",
       "Name: Condensation, dtype: int64"
      ]
     },
     "execution_count": 25,
     "metadata": {},
     "output_type": "execute_result"
    }
   ],
   "source": [
    "train[\"Condensation\"].value_counts()"
   ]
  },
  {
   "cell_type": "code",
   "execution_count": 26,
   "id": "d554b9a5",
   "metadata": {},
   "outputs": [
    {
     "data": {
      "text/plain": [
       "Mist     4934\n",
       "Fog      4919\n",
       "Frost    3380\n",
       "Dry      3219\n",
       "Name: Condensation, dtype: int64"
      ]
     },
     "execution_count": 26,
     "metadata": {},
     "output_type": "execute_result"
    }
   ],
   "source": [
    "test[\"Condensation\"].value_counts()"
   ]
  },
  {
   "cell_type": "code",
   "execution_count": 27,
   "id": "660969ab",
   "metadata": {},
   "outputs": [
    {
     "data": {
      "text/plain": [
       "rain    62431\n",
       "snow     8997\n",
       "Name: Rain_OR_SNOW, dtype: int64"
      ]
     },
     "execution_count": 27,
     "metadata": {},
     "output_type": "execute_result"
    }
   ],
   "source": [
    "train[\"Rain_OR_SNOW\"].value_counts()"
   ]
  },
  {
   "cell_type": "code",
   "execution_count": 28,
   "id": "43cfe1ca",
   "metadata": {},
   "outputs": [
    {
     "data": {
      "text/plain": [
       "rain    14666\n",
       "snow     1786\n",
       "Name: Rain_OR_SNOW, dtype: int64"
      ]
     },
     "execution_count": 28,
     "metadata": {},
     "output_type": "execute_result"
    }
   ],
   "source": [
    "test[\"Rain_OR_SNOW\"].value_counts()"
   ]
  },
  {
   "cell_type": "code",
   "execution_count": 29,
   "id": "8c4e8cd8",
   "metadata": {},
   "outputs": [
    {
     "data": {
      "text/html": [
       "<div>\n",
       "<style scoped>\n",
       "    .dataframe tbody tr th:only-of-type {\n",
       "        vertical-align: middle;\n",
       "    }\n",
       "\n",
       "    .dataframe tbody tr th {\n",
       "        vertical-align: top;\n",
       "    }\n",
       "\n",
       "    .dataframe thead th {\n",
       "        text-align: right;\n",
       "    }\n",
       "</style>\n",
       "<table border=\"1\" class=\"dataframe\">\n",
       "  <thead>\n",
       "    <tr style=\"text-align: right;\">\n",
       "      <th></th>\n",
       "      <th>Rain_OR_SNOW</th>\n",
       "      <th>Temperature (C)</th>\n",
       "      <th>Apparent Temperature (C)</th>\n",
       "      <th>Humidity</th>\n",
       "      <th>Wind Speed (km/h)</th>\n",
       "      <th>Wind Bearing (degrees)</th>\n",
       "      <th>Visibility (km)</th>\n",
       "      <th>Pressure (millibars)</th>\n",
       "      <th>Condensation</th>\n",
       "      <th>Solar irradiance intensity</th>\n",
       "      <th>Cloud_Condition</th>\n",
       "      <th>data</th>\n",
       "    </tr>\n",
       "    <tr>\n",
       "      <th>Day</th>\n",
       "      <th></th>\n",
       "      <th></th>\n",
       "      <th></th>\n",
       "      <th></th>\n",
       "      <th></th>\n",
       "      <th></th>\n",
       "      <th></th>\n",
       "      <th></th>\n",
       "      <th></th>\n",
       "      <th></th>\n",
       "      <th></th>\n",
       "      <th></th>\n",
       "    </tr>\n",
       "  </thead>\n",
       "  <tbody>\n",
       "    <tr>\n",
       "      <th>1</th>\n",
       "      <td>rain</td>\n",
       "      <td>-13.0</td>\n",
       "      <td>-19.0</td>\n",
       "      <td>0.134364</td>\n",
       "      <td>17.0</td>\n",
       "      <td>68.0</td>\n",
       "      <td>4.0</td>\n",
       "      <td>1008.0</td>\n",
       "      <td>Frost</td>\n",
       "      <td>1068</td>\n",
       "      <td>Partly Cloudy</td>\n",
       "      <td>train</td>\n",
       "    </tr>\n",
       "    <tr>\n",
       "      <th>2</th>\n",
       "      <td>rain</td>\n",
       "      <td>15.0</td>\n",
       "      <td>5.0</td>\n",
       "      <td>0.847434</td>\n",
       "      <td>8.0</td>\n",
       "      <td>291.0</td>\n",
       "      <td>2.0</td>\n",
       "      <td>1036.0</td>\n",
       "      <td>Frost</td>\n",
       "      <td>1291</td>\n",
       "      <td>Partly Cloudy</td>\n",
       "      <td>train</td>\n",
       "    </tr>\n",
       "    <tr>\n",
       "      <th>3</th>\n",
       "      <td>rain</td>\n",
       "      <td>33.0</td>\n",
       "      <td>-12.0</td>\n",
       "      <td>0.763775</td>\n",
       "      <td>32.0</td>\n",
       "      <td>32.0</td>\n",
       "      <td>8.0</td>\n",
       "      <td>1004.0</td>\n",
       "      <td>Dry</td>\n",
       "      <td>1433</td>\n",
       "      <td>Partly Cloudy</td>\n",
       "      <td>train</td>\n",
       "    </tr>\n",
       "    <tr>\n",
       "      <th>4</th>\n",
       "      <td>snow</td>\n",
       "      <td>30.0</td>\n",
       "      <td>36.0</td>\n",
       "      <td>0.255069</td>\n",
       "      <td>15.0</td>\n",
       "      <td>130.0</td>\n",
       "      <td>3.0</td>\n",
       "      <td>1016.0</td>\n",
       "      <td>Dry</td>\n",
       "      <td>1410</td>\n",
       "      <td>Partly Cloudy</td>\n",
       "      <td>train</td>\n",
       "    </tr>\n",
       "    <tr>\n",
       "      <th>5</th>\n",
       "      <td>snow</td>\n",
       "      <td>27.0</td>\n",
       "      <td>30.0</td>\n",
       "      <td>0.495435</td>\n",
       "      <td>63.0</td>\n",
       "      <td>60.0</td>\n",
       "      <td>15.0</td>\n",
       "      <td>1007.0</td>\n",
       "      <td>Fog</td>\n",
       "      <td>1391</td>\n",
       "      <td>Partly Cloudy</td>\n",
       "      <td>train</td>\n",
       "    </tr>\n",
       "  </tbody>\n",
       "</table>\n",
       "</div>"
      ],
      "text/plain": [
       "    Rain_OR_SNOW  Temperature (C)  Apparent Temperature (C)  Humidity  \\\n",
       "Day                                                                     \n",
       "1           rain            -13.0                     -19.0  0.134364   \n",
       "2           rain             15.0                       5.0  0.847434   \n",
       "3           rain             33.0                     -12.0  0.763775   \n",
       "4           snow             30.0                      36.0  0.255069   \n",
       "5           snow             27.0                      30.0  0.495435   \n",
       "\n",
       "     Wind Speed (km/h)  Wind Bearing (degrees)  Visibility (km)  \\\n",
       "Day                                                               \n",
       "1                 17.0                    68.0              4.0   \n",
       "2                  8.0                   291.0              2.0   \n",
       "3                 32.0                    32.0              8.0   \n",
       "4                 15.0                   130.0              3.0   \n",
       "5                 63.0                    60.0             15.0   \n",
       "\n",
       "     Pressure (millibars) Condensation  Solar irradiance intensity  \\\n",
       "Day                                                                  \n",
       "1                  1008.0        Frost                        1068   \n",
       "2                  1036.0        Frost                        1291   \n",
       "3                  1004.0          Dry                        1433   \n",
       "4                  1016.0          Dry                        1410   \n",
       "5                  1007.0          Fog                        1391   \n",
       "\n",
       "    Cloud_Condition   data  \n",
       "Day                         \n",
       "1     Partly Cloudy  train  \n",
       "2     Partly Cloudy  train  \n",
       "3     Partly Cloudy  train  \n",
       "4     Partly Cloudy  train  \n",
       "5     Partly Cloudy  train  "
      ]
     },
     "execution_count": 29,
     "metadata": {},
     "output_type": "execute_result"
    }
   ],
   "source": [
    "train['data']='train'\n",
    "train.head()"
   ]
  },
  {
   "cell_type": "code",
   "execution_count": 30,
   "id": "db380b9e",
   "metadata": {},
   "outputs": [
    {
     "data": {
      "text/html": [
       "<div>\n",
       "<style scoped>\n",
       "    .dataframe tbody tr th:only-of-type {\n",
       "        vertical-align: middle;\n",
       "    }\n",
       "\n",
       "    .dataframe tbody tr th {\n",
       "        vertical-align: top;\n",
       "    }\n",
       "\n",
       "    .dataframe thead th {\n",
       "        text-align: right;\n",
       "    }\n",
       "</style>\n",
       "<table border=\"1\" class=\"dataframe\">\n",
       "  <thead>\n",
       "    <tr style=\"text-align: right;\">\n",
       "      <th></th>\n",
       "      <th>Rain_OR_SNOW</th>\n",
       "      <th>Temperature (C)</th>\n",
       "      <th>Apparent Temperature (C)</th>\n",
       "      <th>Humidity</th>\n",
       "      <th>Wind Speed (km/h)</th>\n",
       "      <th>Wind Bearing (degrees)</th>\n",
       "      <th>Visibility (km)</th>\n",
       "      <th>Pressure (millibars)</th>\n",
       "      <th>Condensation</th>\n",
       "      <th>Solar irradiance intensity</th>\n",
       "      <th>data</th>\n",
       "    </tr>\n",
       "    <tr>\n",
       "      <th>Day</th>\n",
       "      <th></th>\n",
       "      <th></th>\n",
       "      <th></th>\n",
       "      <th></th>\n",
       "      <th></th>\n",
       "      <th></th>\n",
       "      <th></th>\n",
       "      <th></th>\n",
       "      <th></th>\n",
       "      <th></th>\n",
       "      <th></th>\n",
       "    </tr>\n",
       "  </thead>\n",
       "  <tbody>\n",
       "    <tr>\n",
       "      <th>80002</th>\n",
       "      <td>rain</td>\n",
       "      <td>1.0</td>\n",
       "      <td>0.0</td>\n",
       "      <td>0.078150</td>\n",
       "      <td>17.0</td>\n",
       "      <td>300</td>\n",
       "      <td>10.0</td>\n",
       "      <td>1029.0</td>\n",
       "      <td>Fog</td>\n",
       "      <td>1399</td>\n",
       "      <td>test</td>\n",
       "    </tr>\n",
       "    <tr>\n",
       "      <th>80003</th>\n",
       "      <td>rain</td>\n",
       "      <td>-3.0</td>\n",
       "      <td>25.0</td>\n",
       "      <td>0.653251</td>\n",
       "      <td>25.0</td>\n",
       "      <td>322</td>\n",
       "      <td>0.0</td>\n",
       "      <td>1009.0</td>\n",
       "      <td>Dry</td>\n",
       "      <td>1468</td>\n",
       "      <td>test</td>\n",
       "    </tr>\n",
       "    <tr>\n",
       "      <th>80004</th>\n",
       "      <td>rain</td>\n",
       "      <td>18.0</td>\n",
       "      <td>17.0</td>\n",
       "      <td>0.930970</td>\n",
       "      <td>37.0</td>\n",
       "      <td>330</td>\n",
       "      <td>12.0</td>\n",
       "      <td>1045.0</td>\n",
       "      <td>Dry</td>\n",
       "      <td>1152</td>\n",
       "      <td>test</td>\n",
       "    </tr>\n",
       "    <tr>\n",
       "      <th>80005</th>\n",
       "      <td>rain</td>\n",
       "      <td>33.0</td>\n",
       "      <td>-12.0</td>\n",
       "      <td>0.778844</td>\n",
       "      <td>50.0</td>\n",
       "      <td>350</td>\n",
       "      <td>3.0</td>\n",
       "      <td>1022.0</td>\n",
       "      <td>Fog</td>\n",
       "      <td>1003</td>\n",
       "      <td>test</td>\n",
       "    </tr>\n",
       "    <tr>\n",
       "      <th>80006</th>\n",
       "      <td>rain</td>\n",
       "      <td>25.0</td>\n",
       "      <td>-19.0</td>\n",
       "      <td>0.491523</td>\n",
       "      <td>62.0</td>\n",
       "      <td>300</td>\n",
       "      <td>12.0</td>\n",
       "      <td>1042.0</td>\n",
       "      <td>Fog</td>\n",
       "      <td>1228</td>\n",
       "      <td>test</td>\n",
       "    </tr>\n",
       "  </tbody>\n",
       "</table>\n",
       "</div>"
      ],
      "text/plain": [
       "      Rain_OR_SNOW  Temperature (C)  Apparent Temperature (C)  Humidity  \\\n",
       "Day                                                                       \n",
       "80002         rain              1.0                       0.0  0.078150   \n",
       "80003         rain             -3.0                      25.0  0.653251   \n",
       "80004         rain             18.0                      17.0  0.930970   \n",
       "80005         rain             33.0                     -12.0  0.778844   \n",
       "80006         rain             25.0                     -19.0  0.491523   \n",
       "\n",
       "       Wind Speed (km/h)  Wind Bearing (degrees)  Visibility (km)  \\\n",
       "Day                                                                 \n",
       "80002               17.0                     300             10.0   \n",
       "80003               25.0                     322              0.0   \n",
       "80004               37.0                     330             12.0   \n",
       "80005               50.0                     350              3.0   \n",
       "80006               62.0                     300             12.0   \n",
       "\n",
       "       Pressure (millibars) Condensation  Solar irradiance intensity  data  \n",
       "Day                                                                         \n",
       "80002                1029.0          Fog                        1399  test  \n",
       "80003                1009.0          Dry                        1468  test  \n",
       "80004                1045.0          Dry                        1152  test  \n",
       "80005                1022.0          Fog                        1003  test  \n",
       "80006                1042.0          Fog                        1228  test  "
      ]
     },
     "execution_count": 30,
     "metadata": {},
     "output_type": "execute_result"
    }
   ],
   "source": [
    "test['data']='test'\n",
    "test.head()"
   ]
  },
  {
   "cell_type": "code",
   "execution_count": 31,
   "id": "07203018",
   "metadata": {},
   "outputs": [
    {
     "name": "stdout",
     "output_type": "stream",
     "text": [
      "(87880, 12)\n"
     ]
    },
    {
     "data": {
      "text/html": [
       "<div>\n",
       "<style scoped>\n",
       "    .dataframe tbody tr th:only-of-type {\n",
       "        vertical-align: middle;\n",
       "    }\n",
       "\n",
       "    .dataframe tbody tr th {\n",
       "        vertical-align: top;\n",
       "    }\n",
       "\n",
       "    .dataframe thead th {\n",
       "        text-align: right;\n",
       "    }\n",
       "</style>\n",
       "<table border=\"1\" class=\"dataframe\">\n",
       "  <thead>\n",
       "    <tr style=\"text-align: right;\">\n",
       "      <th></th>\n",
       "      <th>Rain_OR_SNOW</th>\n",
       "      <th>Temperature (C)</th>\n",
       "      <th>Apparent Temperature (C)</th>\n",
       "      <th>Humidity</th>\n",
       "      <th>Wind Speed (km/h)</th>\n",
       "      <th>Wind Bearing (degrees)</th>\n",
       "      <th>Visibility (km)</th>\n",
       "      <th>Pressure (millibars)</th>\n",
       "      <th>Condensation</th>\n",
       "      <th>Solar irradiance intensity</th>\n",
       "      <th>Cloud_Condition</th>\n",
       "      <th>data</th>\n",
       "    </tr>\n",
       "    <tr>\n",
       "      <th>Day</th>\n",
       "      <th></th>\n",
       "      <th></th>\n",
       "      <th></th>\n",
       "      <th></th>\n",
       "      <th></th>\n",
       "      <th></th>\n",
       "      <th></th>\n",
       "      <th></th>\n",
       "      <th></th>\n",
       "      <th></th>\n",
       "      <th></th>\n",
       "      <th></th>\n",
       "    </tr>\n",
       "  </thead>\n",
       "  <tbody>\n",
       "    <tr>\n",
       "      <th>1</th>\n",
       "      <td>rain</td>\n",
       "      <td>-13.0</td>\n",
       "      <td>-19.0</td>\n",
       "      <td>0.134364</td>\n",
       "      <td>17.0</td>\n",
       "      <td>68.0</td>\n",
       "      <td>4.0</td>\n",
       "      <td>1008.0</td>\n",
       "      <td>Frost</td>\n",
       "      <td>1068</td>\n",
       "      <td>Partly Cloudy</td>\n",
       "      <td>train</td>\n",
       "    </tr>\n",
       "    <tr>\n",
       "      <th>2</th>\n",
       "      <td>rain</td>\n",
       "      <td>15.0</td>\n",
       "      <td>5.0</td>\n",
       "      <td>0.847434</td>\n",
       "      <td>8.0</td>\n",
       "      <td>291.0</td>\n",
       "      <td>2.0</td>\n",
       "      <td>1036.0</td>\n",
       "      <td>Frost</td>\n",
       "      <td>1291</td>\n",
       "      <td>Partly Cloudy</td>\n",
       "      <td>train</td>\n",
       "    </tr>\n",
       "    <tr>\n",
       "      <th>3</th>\n",
       "      <td>rain</td>\n",
       "      <td>33.0</td>\n",
       "      <td>-12.0</td>\n",
       "      <td>0.763775</td>\n",
       "      <td>32.0</td>\n",
       "      <td>32.0</td>\n",
       "      <td>8.0</td>\n",
       "      <td>1004.0</td>\n",
       "      <td>Dry</td>\n",
       "      <td>1433</td>\n",
       "      <td>Partly Cloudy</td>\n",
       "      <td>train</td>\n",
       "    </tr>\n",
       "    <tr>\n",
       "      <th>4</th>\n",
       "      <td>snow</td>\n",
       "      <td>30.0</td>\n",
       "      <td>36.0</td>\n",
       "      <td>0.255069</td>\n",
       "      <td>15.0</td>\n",
       "      <td>130.0</td>\n",
       "      <td>3.0</td>\n",
       "      <td>1016.0</td>\n",
       "      <td>Dry</td>\n",
       "      <td>1410</td>\n",
       "      <td>Partly Cloudy</td>\n",
       "      <td>train</td>\n",
       "    </tr>\n",
       "    <tr>\n",
       "      <th>5</th>\n",
       "      <td>snow</td>\n",
       "      <td>27.0</td>\n",
       "      <td>30.0</td>\n",
       "      <td>0.495435</td>\n",
       "      <td>63.0</td>\n",
       "      <td>60.0</td>\n",
       "      <td>15.0</td>\n",
       "      <td>1007.0</td>\n",
       "      <td>Fog</td>\n",
       "      <td>1391</td>\n",
       "      <td>Partly Cloudy</td>\n",
       "      <td>train</td>\n",
       "    </tr>\n",
       "    <tr>\n",
       "      <th>6</th>\n",
       "      <td>snow</td>\n",
       "      <td>-17.0</td>\n",
       "      <td>33.0</td>\n",
       "      <td>0.449491</td>\n",
       "      <td>57.0</td>\n",
       "      <td>253.0</td>\n",
       "      <td>14.0</td>\n",
       "      <td>1031.0</td>\n",
       "      <td>Fog</td>\n",
       "      <td>1032</td>\n",
       "      <td>Partly Cloudy</td>\n",
       "      <td>train</td>\n",
       "    </tr>\n",
       "    <tr>\n",
       "      <th>7</th>\n",
       "      <td>snow</td>\n",
       "      <td>-5.0</td>\n",
       "      <td>21.0</td>\n",
       "      <td>0.651593</td>\n",
       "      <td>60.0</td>\n",
       "      <td>230.0</td>\n",
       "      <td>15.0</td>\n",
       "      <td>1028.0</td>\n",
       "      <td>Fog</td>\n",
       "      <td>1130</td>\n",
       "      <td>Light Rain</td>\n",
       "      <td>train</td>\n",
       "    </tr>\n",
       "    <tr>\n",
       "      <th>8</th>\n",
       "      <td>snow</td>\n",
       "      <td>-14.0</td>\n",
       "      <td>-1.0</td>\n",
       "      <td>0.788723</td>\n",
       "      <td>48.0</td>\n",
       "      <td>241.0</td>\n",
       "      <td>12.0</td>\n",
       "      <td>1030.0</td>\n",
       "      <td>Mist</td>\n",
       "      <td>1060</td>\n",
       "      <td>Light Rain</td>\n",
       "      <td>train</td>\n",
       "    </tr>\n",
       "    <tr>\n",
       "      <th>9</th>\n",
       "      <td>snow</td>\n",
       "      <td>10.0</td>\n",
       "      <td>-15.0</td>\n",
       "      <td>0.093860</td>\n",
       "      <td>26.0</td>\n",
       "      <td>333.0</td>\n",
       "      <td>6.0</td>\n",
       "      <td>1041.0</td>\n",
       "      <td>Fog</td>\n",
       "      <td>1253</td>\n",
       "      <td>Light Rain</td>\n",
       "      <td>train</td>\n",
       "    </tr>\n",
       "    <tr>\n",
       "      <th>10</th>\n",
       "      <td>snow</td>\n",
       "      <td>27.0</td>\n",
       "      <td>35.0</td>\n",
       "      <td>0.028347</td>\n",
       "      <td>12.0</td>\n",
       "      <td>194.0</td>\n",
       "      <td>3.0</td>\n",
       "      <td>1024.0</td>\n",
       "      <td>Fog</td>\n",
       "      <td>1389</td>\n",
       "      <td>Light Rain</td>\n",
       "      <td>train</td>\n",
       "    </tr>\n",
       "  </tbody>\n",
       "</table>\n",
       "</div>"
      ],
      "text/plain": [
       "    Rain_OR_SNOW  Temperature (C)  Apparent Temperature (C)  Humidity  \\\n",
       "Day                                                                     \n",
       "1           rain            -13.0                     -19.0  0.134364   \n",
       "2           rain             15.0                       5.0  0.847434   \n",
       "3           rain             33.0                     -12.0  0.763775   \n",
       "4           snow             30.0                      36.0  0.255069   \n",
       "5           snow             27.0                      30.0  0.495435   \n",
       "6           snow            -17.0                      33.0  0.449491   \n",
       "7           snow             -5.0                      21.0  0.651593   \n",
       "8           snow            -14.0                      -1.0  0.788723   \n",
       "9           snow             10.0                     -15.0  0.093860   \n",
       "10          snow             27.0                      35.0  0.028347   \n",
       "\n",
       "     Wind Speed (km/h)  Wind Bearing (degrees)  Visibility (km)  \\\n",
       "Day                                                               \n",
       "1                 17.0                    68.0              4.0   \n",
       "2                  8.0                   291.0              2.0   \n",
       "3                 32.0                    32.0              8.0   \n",
       "4                 15.0                   130.0              3.0   \n",
       "5                 63.0                    60.0             15.0   \n",
       "6                 57.0                   253.0             14.0   \n",
       "7                 60.0                   230.0             15.0   \n",
       "8                 48.0                   241.0             12.0   \n",
       "9                 26.0                   333.0              6.0   \n",
       "10                12.0                   194.0              3.0   \n",
       "\n",
       "     Pressure (millibars) Condensation  Solar irradiance intensity  \\\n",
       "Day                                                                  \n",
       "1                  1008.0        Frost                        1068   \n",
       "2                  1036.0        Frost                        1291   \n",
       "3                  1004.0          Dry                        1433   \n",
       "4                  1016.0          Dry                        1410   \n",
       "5                  1007.0          Fog                        1391   \n",
       "6                  1031.0          Fog                        1032   \n",
       "7                  1028.0          Fog                        1130   \n",
       "8                  1030.0         Mist                        1060   \n",
       "9                  1041.0          Fog                        1253   \n",
       "10                 1024.0          Fog                        1389   \n",
       "\n",
       "    Cloud_Condition   data  \n",
       "Day                         \n",
       "1     Partly Cloudy  train  \n",
       "2     Partly Cloudy  train  \n",
       "3     Partly Cloudy  train  \n",
       "4     Partly Cloudy  train  \n",
       "5     Partly Cloudy  train  \n",
       "6     Partly Cloudy  train  \n",
       "7        Light Rain  train  \n",
       "8        Light Rain  train  \n",
       "9        Light Rain  train  \n",
       "10       Light Rain  train  "
      ]
     },
     "execution_count": 31,
     "metadata": {},
     "output_type": "execute_result"
    }
   ],
   "source": [
    "#checking shape of dataset and dataset details:\n",
    "df=pd.concat([train,test],axis=0)\n",
    "print(df.shape)\n",
    "df.head(10)"
   ]
  },
  {
   "cell_type": "code",
   "execution_count": 32,
   "id": "ad1d4e17",
   "metadata": {},
   "outputs": [
    {
     "name": "stdout",
     "output_type": "stream",
     "text": [
      "['rain' 'snow']\n"
     ]
    },
    {
     "data": {
      "text/plain": [
       "rain    77097\n",
       "snow    10783\n",
       "Name: Rain_OR_SNOW, dtype: int64"
      ]
     },
     "execution_count": 32,
     "metadata": {},
     "output_type": "execute_result"
    }
   ],
   "source": [
    "print(df.Rain_OR_SNOW.unique())\n",
    "df.Rain_OR_SNOW.value_counts()"
   ]
  },
  {
   "cell_type": "code",
   "execution_count": 33,
   "id": "5862afb2",
   "metadata": {},
   "outputs": [],
   "source": [
    "from sklearn.utils import resample\n",
    "# Separate majority and minority classes\n",
    "df_majority = df[df.Rain_OR_SNOW=='rain']\n",
    "df_minority = df[df.Rain_OR_SNOW=='snow']\n",
    "\n",
    "# Upsample minority class\n",
    "df_minority_upsampled = resample(df_minority, \n",
    "                                 replace=True,     # sample with replacement\n",
    "                                 n_samples=77097,    # to match majority class\n",
    "                                 random_state=10) # reproducible results\n",
    "\n",
    "# Combine majority class with upsampled minority class\n",
    "df = pd.concat([df_majority, df_minority_upsampled])"
   ]
  },
  {
   "cell_type": "code",
   "execution_count": 34,
   "id": "2737c7d0",
   "metadata": {},
   "outputs": [
    {
     "name": "stdout",
     "output_type": "stream",
     "text": [
      "rain    77097\n",
      "snow    77097\n",
      "Name: Rain_OR_SNOW, dtype: int64\n"
     ]
    },
    {
     "data": {
      "text/html": [
       "<div>\n",
       "<style scoped>\n",
       "    .dataframe tbody tr th:only-of-type {\n",
       "        vertical-align: middle;\n",
       "    }\n",
       "\n",
       "    .dataframe tbody tr th {\n",
       "        vertical-align: top;\n",
       "    }\n",
       "\n",
       "    .dataframe thead th {\n",
       "        text-align: right;\n",
       "    }\n",
       "</style>\n",
       "<table border=\"1\" class=\"dataframe\">\n",
       "  <thead>\n",
       "    <tr style=\"text-align: right;\">\n",
       "      <th></th>\n",
       "      <th>Rain_OR_SNOW</th>\n",
       "      <th>Temperature (C)</th>\n",
       "      <th>Apparent Temperature (C)</th>\n",
       "      <th>Humidity</th>\n",
       "      <th>Wind Speed (km/h)</th>\n",
       "      <th>Wind Bearing (degrees)</th>\n",
       "      <th>Visibility (km)</th>\n",
       "      <th>Pressure (millibars)</th>\n",
       "      <th>Condensation</th>\n",
       "      <th>Solar irradiance intensity</th>\n",
       "      <th>Cloud_Condition</th>\n",
       "      <th>data</th>\n",
       "    </tr>\n",
       "    <tr>\n",
       "      <th>Day</th>\n",
       "      <th></th>\n",
       "      <th></th>\n",
       "      <th></th>\n",
       "      <th></th>\n",
       "      <th></th>\n",
       "      <th></th>\n",
       "      <th></th>\n",
       "      <th></th>\n",
       "      <th></th>\n",
       "      <th></th>\n",
       "      <th></th>\n",
       "      <th></th>\n",
       "    </tr>\n",
       "  </thead>\n",
       "  <tbody>\n",
       "    <tr>\n",
       "      <th>1</th>\n",
       "      <td>rain</td>\n",
       "      <td>-13.0</td>\n",
       "      <td>-19.0</td>\n",
       "      <td>0.134364</td>\n",
       "      <td>17.0</td>\n",
       "      <td>68.0</td>\n",
       "      <td>4.0</td>\n",
       "      <td>1008.0</td>\n",
       "      <td>Frost</td>\n",
       "      <td>1068</td>\n",
       "      <td>Partly Cloudy</td>\n",
       "      <td>train</td>\n",
       "    </tr>\n",
       "    <tr>\n",
       "      <th>2</th>\n",
       "      <td>rain</td>\n",
       "      <td>15.0</td>\n",
       "      <td>5.0</td>\n",
       "      <td>0.847434</td>\n",
       "      <td>8.0</td>\n",
       "      <td>291.0</td>\n",
       "      <td>2.0</td>\n",
       "      <td>1036.0</td>\n",
       "      <td>Frost</td>\n",
       "      <td>1291</td>\n",
       "      <td>Partly Cloudy</td>\n",
       "      <td>train</td>\n",
       "    </tr>\n",
       "    <tr>\n",
       "      <th>3</th>\n",
       "      <td>rain</td>\n",
       "      <td>33.0</td>\n",
       "      <td>-12.0</td>\n",
       "      <td>0.763775</td>\n",
       "      <td>32.0</td>\n",
       "      <td>32.0</td>\n",
       "      <td>8.0</td>\n",
       "      <td>1004.0</td>\n",
       "      <td>Dry</td>\n",
       "      <td>1433</td>\n",
       "      <td>Partly Cloudy</td>\n",
       "      <td>train</td>\n",
       "    </tr>\n",
       "    <tr>\n",
       "      <th>71</th>\n",
       "      <td>rain</td>\n",
       "      <td>5.0</td>\n",
       "      <td>-22.0</td>\n",
       "      <td>0.489694</td>\n",
       "      <td>21.0</td>\n",
       "      <td>17.0</td>\n",
       "      <td>15.0</td>\n",
       "      <td>1037.0</td>\n",
       "      <td>Mist</td>\n",
       "      <td>1011</td>\n",
       "      <td>Overcast</td>\n",
       "      <td>train</td>\n",
       "    </tr>\n",
       "    <tr>\n",
       "      <th>72</th>\n",
       "      <td>rain</td>\n",
       "      <td>32.0</td>\n",
       "      <td>12.0</td>\n",
       "      <td>0.029575</td>\n",
       "      <td>21.0</td>\n",
       "      <td>245.0</td>\n",
       "      <td>0.0</td>\n",
       "      <td>1031.0</td>\n",
       "      <td>Fog</td>\n",
       "      <td>1213</td>\n",
       "      <td>Overcast</td>\n",
       "      <td>train</td>\n",
       "    </tr>\n",
       "  </tbody>\n",
       "</table>\n",
       "</div>"
      ],
      "text/plain": [
       "    Rain_OR_SNOW  Temperature (C)  Apparent Temperature (C)  Humidity  \\\n",
       "Day                                                                     \n",
       "1           rain            -13.0                     -19.0  0.134364   \n",
       "2           rain             15.0                       5.0  0.847434   \n",
       "3           rain             33.0                     -12.0  0.763775   \n",
       "71          rain              5.0                     -22.0  0.489694   \n",
       "72          rain             32.0                      12.0  0.029575   \n",
       "\n",
       "     Wind Speed (km/h)  Wind Bearing (degrees)  Visibility (km)  \\\n",
       "Day                                                               \n",
       "1                 17.0                    68.0              4.0   \n",
       "2                  8.0                   291.0              2.0   \n",
       "3                 32.0                    32.0              8.0   \n",
       "71                21.0                    17.0             15.0   \n",
       "72                21.0                   245.0              0.0   \n",
       "\n",
       "     Pressure (millibars) Condensation  Solar irradiance intensity  \\\n",
       "Day                                                                  \n",
       "1                  1008.0        Frost                        1068   \n",
       "2                  1036.0        Frost                        1291   \n",
       "3                  1004.0          Dry                        1433   \n",
       "71                 1037.0         Mist                        1011   \n",
       "72                 1031.0          Fog                        1213   \n",
       "\n",
       "    Cloud_Condition   data  \n",
       "Day                         \n",
       "1     Partly Cloudy  train  \n",
       "2     Partly Cloudy  train  \n",
       "3     Partly Cloudy  train  \n",
       "71         Overcast  train  \n",
       "72         Overcast  train  "
      ]
     },
     "execution_count": 34,
     "metadata": {},
     "output_type": "execute_result"
    }
   ],
   "source": [
    "print(df.Rain_OR_SNOW.value_counts())\n",
    "df.head()"
   ]
  },
  {
   "cell_type": "code",
   "execution_count": 35,
   "id": "4e9f43b3",
   "metadata": {},
   "outputs": [],
   "source": [
    "train=df[df['data']=='train']\n",
    "test=df[df['data']=='test']"
   ]
  },
  {
   "cell_type": "code",
   "execution_count": 36,
   "id": "d48fae52",
   "metadata": {},
   "outputs": [
    {
     "name": "stdout",
     "output_type": "stream",
     "text": [
      "Index(['Rain_OR_SNOW', 'Temperature (C)', 'Apparent Temperature (C)',\n",
      "       'Humidity', 'Wind Speed (km/h)', 'Wind Bearing (degrees)',\n",
      "       'Visibility (km)', 'Pressure (millibars)', 'Condensation',\n",
      "       'Solar irradiance intensity', 'Cloud_Condition'],\n",
      "      dtype='object')\n"
     ]
    },
    {
     "data": {
      "text/plain": [
       "(126605, 11)"
      ]
     },
     "execution_count": 36,
     "metadata": {},
     "output_type": "execute_result"
    }
   ],
   "source": [
    "train.drop(['data'],axis=1,inplace=True)\n",
    "print(train.columns)\n",
    "train.shape"
   ]
  },
  {
   "cell_type": "code",
   "execution_count": 37,
   "id": "640db492",
   "metadata": {},
   "outputs": [
    {
     "name": "stdout",
     "output_type": "stream",
     "text": [
      "Index(['Rain_OR_SNOW', 'Temperature (C)', 'Apparent Temperature (C)',\n",
      "       'Humidity', 'Wind Speed (km/h)', 'Wind Bearing (degrees)',\n",
      "       'Visibility (km)', 'Pressure (millibars)', 'Condensation',\n",
      "       'Solar irradiance intensity'],\n",
      "      dtype='object')\n"
     ]
    },
    {
     "data": {
      "text/plain": [
       "(27589, 10)"
      ]
     },
     "execution_count": 37,
     "metadata": {},
     "output_type": "execute_result"
    }
   ],
   "source": [
    "test.drop(['Cloud_Condition', 'data'],axis=1,inplace=True)\n",
    "print(test.columns)\n",
    "test.shape"
   ]
  },
  {
   "cell_type": "code",
   "execution_count": 38,
   "id": "daad26f4",
   "metadata": {},
   "outputs": [
    {
     "data": {
      "text/plain": [
       "snow    64174\n",
       "rain    62431\n",
       "Name: Rain_OR_SNOW, dtype: int64"
      ]
     },
     "execution_count": 38,
     "metadata": {},
     "output_type": "execute_result"
    }
   ],
   "source": [
    "train.Rain_OR_SNOW.value_counts()"
   ]
  },
  {
   "cell_type": "code",
   "execution_count": 39,
   "id": "8b625d92",
   "metadata": {},
   "outputs": [
    {
     "data": {
      "text/plain": [
       "rain    14666\n",
       "snow    12923\n",
       "Name: Rain_OR_SNOW, dtype: int64"
      ]
     },
     "execution_count": 39,
     "metadata": {},
     "output_type": "execute_result"
    }
   ],
   "source": [
    "test.Rain_OR_SNOW.value_counts()"
   ]
  },
  {
   "cell_type": "code",
   "execution_count": null,
   "id": "b6caa1b9",
   "metadata": {},
   "outputs": [],
   "source": []
  },
  {
   "cell_type": "code",
   "execution_count": null,
   "id": "5ea37863",
   "metadata": {},
   "outputs": [],
   "source": []
  },
  {
   "cell_type": "code",
   "execution_count": null,
   "id": "a39c312c",
   "metadata": {},
   "outputs": [],
   "source": []
  },
  {
   "cell_type": "code",
   "execution_count": null,
   "id": "5887b6e3",
   "metadata": {},
   "outputs": [],
   "source": []
  },
  {
   "cell_type": "code",
   "execution_count": null,
   "id": "a9dc1302",
   "metadata": {},
   "outputs": [],
   "source": []
  },
  {
   "cell_type": "code",
   "execution_count": null,
   "id": "2a8100c3",
   "metadata": {},
   "outputs": [],
   "source": []
  },
  {
   "cell_type": "code",
   "execution_count": null,
   "id": "5a678e81",
   "metadata": {},
   "outputs": [],
   "source": []
  },
  {
   "cell_type": "code",
   "execution_count": null,
   "id": "ce8d73be",
   "metadata": {},
   "outputs": [],
   "source": []
  },
  {
   "cell_type": "code",
   "execution_count": null,
   "id": "920780bd",
   "metadata": {},
   "outputs": [],
   "source": []
  },
  {
   "cell_type": "code",
   "execution_count": 40,
   "id": "0363d353",
   "metadata": {},
   "outputs": [],
   "source": [
    "# train=train.drop([\"Rain_OR_SNOW\"], axis=1)"
   ]
  },
  {
   "cell_type": "code",
   "execution_count": 41,
   "id": "3cca3017",
   "metadata": {},
   "outputs": [],
   "source": [
    "# test=test.drop([\"Rain_OR_SNOW\"], axis=1)"
   ]
  },
  {
   "cell_type": "code",
   "execution_count": 42,
   "id": "cfde77f0",
   "metadata": {},
   "outputs": [
    {
     "data": {
      "text/plain": [
       "array(['Partly Cloudy', 'Overcast', 'Foggy', 'Breezy and Dry',\n",
       "       'Breezy and Mostly Cloudy', 'Light Rain', 'Clear',\n",
       "       'Breezy and Partly Cloudy', 'Breezy and Overcast',\n",
       "       'Humid and Mostly Cloudy', 'Mostly Cloudy',\n",
       "       'Humid and Partly Cloudy', 'Windy and Foggy', 'Windy and Overcast',\n",
       "       'Windy and Partly Cloudy', 'Breezy', 'Dry and Partly Cloudy',\n",
       "       'Windy and Mostly Cloudy', 'Dangerously Windy and Partly Cloudy',\n",
       "       'Dry', 'Windy', 'Humid and Overcast', 'Breezy and Foggy',\n",
       "       'Drizzle', 'Windy and Dry', 'Dry and Mostly Cloudy'], dtype=object)"
      ]
     },
     "execution_count": 42,
     "metadata": {},
     "output_type": "execute_result"
    }
   ],
   "source": [
    "train[\"Cloud_Condition\"].unique()"
   ]
  },
  {
   "cell_type": "code",
   "execution_count": 43,
   "id": "80b6eb59",
   "metadata": {
    "scrolled": false
   },
   "outputs": [
    {
     "data": {
      "image/png": "[encoded data removed]",
      "text/plain": [
       "<Figure size 1080x432 with 1 Axes>"
      ]
     },
     "metadata": {
      "needs_background": "light"
     },
     "output_type": "display_data"
    }
   ],
   "source": [
    "plt.figure(figsize=(15,6))\n",
    "sns.countplot(x='Cloud_Condition',data=train,palette='gist_rainbow_r',\n",
    "              order=train['Cloud_Condition'].value_counts().sort_values(ascending=False).index)\n",
    "plt.xticks(rotation=90)\n",
    "plt.show()"
   ]
  },
  {
   "cell_type": "markdown",
   "id": "61d53a60",
   "metadata": {},
   "source": [
    "1. Mostly cloudy= Breezy and Mostly Cloudy, Humid and Mostly Cloudy, Windy and Mostly Cloudy, Dry and Mostly Cloudy\n",
    "2. Partly Cloudy= Breezy and Partly Cloudy, Humid and Partly Cloudy, Windy and Partly Cloudy, Dry and Partly Cloudy, Dangerously Windy and Partly Cloudy\n",
    "3. Clear= Windy and Dry, Dry, Breezy and Dry\n",
    "4. Foggy= Breezy and Foggy, Windy and Foggy, \n",
    "5. Overcast= Breezy and Overcast, Windy and Overcast, Humid and Overcast\n",
    "6. Light Rain= Drizzle\n",
    "7. Breezy\n",
    "8. Windy"
   ]
  },
  {
   "cell_type": "code",
   "execution_count": 44,
   "id": "cd6e7f37",
   "metadata": {},
   "outputs": [],
   "source": [
    "train[\"Cloud_Condition\"]=train[\"Cloud_Condition\"].replace({\"Breezy and Mostly Cloudy\":\"Mostly cloudy\",\n",
    "                                                           \"Windy and Mostly Cloudy\":\"Mostly cloudy\",\n",
    "                                                           \"Humid and Mostly Cloudy\":\"Mostly cloudy\",\n",
    "                                                           \"Dry and Mostly Cloudy\":\"Mostly cloudy\",\n",
    "                                                           \"Mostly Cloudy\":\"Mostly cloudy\",\n",
    "                                                           \"Breezy and Partly Cloudy\":\"Partly Cloudy\",\n",
    "                                                           \"Humid and Partly Cloudy\":\"Partly Cloudy\",\n",
    "                                                           \"Windy and Partly Cloudy\":\"Partly Cloudy\",\n",
    "                                                           \"Dry and Partly Cloudy\":\"Partly Cloudy\",\n",
    "                                                           \"Dangerously Windy and Partly Cloudy\":\"Partly Cloudy\",\n",
    "                                                           \"Windy and Dry\":\"Clear\",\n",
    "                                                           \"Dry\":\"Clear\",\n",
    "                                                           \"Breezy and Dry\":\"Clear\",\n",
    "                                                           \"Breezy and Foggy\":\"Foggy\",\n",
    "                                                           \"Windy and Foggy\":\"Foggy\",\n",
    "                                                           \"Breezy and Overcast\":\"Overcast\",\n",
    "                                                           \"Windy and Overcast\":\"Overcast\",\n",
    "                                                           \"Humid and Overcast\":\"Overcast\",\n",
    "                                                           \"Drizzle\":\"Light Rain\"\n",
    "                                                          })"
   ]
  },
  {
   "cell_type": "code",
   "execution_count": 45,
   "id": "b78791ac",
   "metadata": {},
   "outputs": [
    {
     "data": {
      "image/png": "[encoded data removed]",
      "text/plain": [
       "<Figure size 1080x432 with 1 Axes>"
      ]
     },
     "metadata": {
      "needs_background": "light"
     },
     "output_type": "display_data"
    }
   ],
   "source": [
    "plt.figure(figsize=(15,6))\n",
    "sns.countplot(x='Cloud_Condition',data=train,palette='gist_rainbow_r',\n",
    "              order=train['Cloud_Condition'].value_counts().sort_values(ascending=False).index)\n",
    "# plt.xticks(rotation=90)\n",
    "plt.show()"
   ]
  },
  {
   "cell_type": "code",
   "execution_count": 46,
   "id": "2164ccb0",
   "metadata": {},
   "outputs": [
    {
     "data": {
      "text/plain": [
       "Mostly cloudy    31656\n",
       "Overcast         29563\n",
       "Partly Cloudy    24120\n",
       "Foggy            22638\n",
       "Clear            18080\n",
       "Light Rain         413\n",
       "Breezy             130\n",
       "Windy                5\n",
       "Name: Cloud_Condition, dtype: int64"
      ]
     },
     "execution_count": 46,
     "metadata": {},
     "output_type": "execute_result"
    }
   ],
   "source": [
    "train[\"Cloud_Condition\"].value_counts()"
   ]
  },
  {
   "cell_type": "code",
   "execution_count": 47,
   "id": "bfd6a9b5",
   "metadata": {},
   "outputs": [],
   "source": [
    "from sklearn.preprocessing import LabelEncoder, StandardScaler\n",
    "from sklearn.model_selection import train_test_split, KFold, cross_val_score\n",
    "from sklearn.linear_model import LogisticRegression, SGDClassifier\n",
    "from sklearn.svm import SVC\n",
    "from sklearn.neighbors import KNeighborsClassifier\n",
    "from sklearn.tree import DecisionTreeClassifier\n",
    "from sklearn.ensemble import ExtraTreesClassifier, RandomForestClassifier, AdaBoostClassifier, GradientBoostingClassifier, VotingClassifier\n",
    "from xgboost import XGBClassifier\n",
    "from sklearn.metrics import accuracy_score, confusion_matrix, classification_report\n",
    "import pickle"
   ]
  },
  {
   "cell_type": "code",
   "execution_count": 48,
   "id": "079b4c27",
   "metadata": {},
   "outputs": [
    {
     "name": "stdout",
     "output_type": "stream",
     "text": [
      "Feature Rain_OR_SNOW\n",
      "le_name_mapping {'rain': 0, 'snow': 1}\n",
      "\n",
      "Feature Condensation\n",
      "le_name_mapping {'Dry': 0, 'Fog': 1, 'Frost': 2, 'Mist': 3}\n",
      "\n",
      "Feature Cloud_Condition\n",
      "le_name_mapping {'Breezy': 0, 'Clear': 1, 'Foggy': 2, 'Light Rain': 3, 'Mostly cloudy': 4, 'Overcast': 5, 'Partly Cloudy': 6, 'Windy': 7}\n",
      "\n"
     ]
    }
   ],
   "source": [
    "le=LabelEncoder()\n",
    "\n",
    "for i in train_categorical:\n",
    "    train[i]=le.fit_transform(train[i])\n",
    "    le_name_mapping=dict(zip(le.classes_, le.transform(le.classes_)))\n",
    "    print('Feature',i)\n",
    "    print('le_name_mapping',le_name_mapping)\n",
    "    print()"
   ]
  },
  {
   "cell_type": "code",
   "execution_count": 49,
   "id": "47bd7ea5",
   "metadata": {},
   "outputs": [],
   "source": [
    "X=train.iloc[:,:-1]\n",
    "Y=train.iloc[:,-1]"
   ]
  },
  {
   "cell_type": "code",
   "execution_count": 50,
   "id": "4a890b6a",
   "metadata": {},
   "outputs": [
    {
     "name": "stdout",
     "output_type": "stream",
     "text": [
      "(126605, 10)\n",
      "(126605,)\n"
     ]
    }
   ],
   "source": [
    "print(X.shape)\n",
    "print(Y.shape)"
   ]
  },
  {
   "cell_type": "code",
   "execution_count": 51,
   "id": "37dfa764",
   "metadata": {},
   "outputs": [],
   "source": [
    "scaler= StandardScaler()\n",
    "scaler.fit(X)\n",
    "X= scaler.transform(X)"
   ]
  },
  {
   "cell_type": "code",
   "execution_count": 52,
   "id": "4957ec1a",
   "metadata": {},
   "outputs": [],
   "source": [
    "X_train, X_test, Y_train, Y_test = train_test_split(X, Y, test_size=0.3,random_state=10) "
   ]
  },
  {
   "cell_type": "code",
   "execution_count": 53,
   "id": "4966c8bd",
   "metadata": {},
   "outputs": [
    {
     "name": "stdout",
     "output_type": "stream",
     "text": [
      "Accuracy score:\n",
      " 0.3200200094781739 \n",
      "\n",
      "Confusion matix:\n",
      " [[   0    0   26    0   13    2    0]\n",
      " [   0    0 1994    0 2837  696    9]\n",
      " [   0    0 4539    0  986 1412    1]\n",
      " [   0    0   45    0   53   19    0]\n",
      " [   0    0 2253    0 6152  865    8]\n",
      " [   0    0 3894    0 3510 1458    2]\n",
      " [   0    0 1525    0 5164  513    6]] \n",
      "\n",
      "Classification report\n",
      "               precision    recall  f1-score   support\n",
      "\n",
      "           0       0.00      0.00      0.00        41\n",
      "           1       0.00      0.00      0.00      5536\n",
      "           2       0.32      0.65      0.43      6938\n",
      "           3       0.00      0.00      0.00       117\n",
      "           4       0.33      0.66      0.44      9278\n",
      "           5       0.29      0.16      0.21      8864\n",
      "           6       0.23      0.00      0.00      7208\n",
      "\n",
      "    accuracy                           0.32     37982\n",
      "   macro avg       0.17      0.21      0.15     37982\n",
      "weighted avg       0.25      0.32      0.24     37982\n",
      " \n",
      "\n"
     ]
    }
   ],
   "source": [
    "model_sgd= SGDClassifier(loss=\"log\", random_state=10, alpha=0.01, max_iter=1000, shuffle=True, early_stopping=True, \n",
    "                        n_iter_no_change=3)\n",
    "model_sgd.fit(X_train, Y_train)\n",
    "SGD= model_sgd.predict(X_test)\n",
    "\n",
    "print(\"Accuracy score:\\n\", accuracy_score(Y_test, SGD),\"\\n\")\n",
    "print(\"Confusion matix:\\n\", confusion_matrix(Y_test, SGD),\"\\n\")\n",
    "print(\"Classification report\\n\", classification_report(Y_test, SGD),\"\\n\")"
   ]
  },
  {
   "cell_type": "code",
   "execution_count": 54,
   "id": "17d5ac0a",
   "metadata": {},
   "outputs": [],
   "source": [
    "X_train, X_test, Y_train, Y_test = train_test_split(X, Y, test_size=0.3,random_state=10) "
   ]
  },
  {
   "cell_type": "code",
   "execution_count": 55,
   "id": "7af25cf8",
   "metadata": {},
   "outputs": [
    {
     "name": "stdout",
     "output_type": "stream",
     "text": [
      "Accuracy score:\n",
      " 0.6214522668632511 \n",
      "\n",
      "Confusion matix:\n",
      " [[  25    0    9    0    4    3    0    0]\n",
      " [   1 3032  151    7  966  563  816    0]\n",
      " [   2  180 5976    4  318  209  249    0]\n",
      " [   0    9    4   64   13    8   19    0]\n",
      " [   1  916  342   17 5088 1171 1742    1]\n",
      " [   4  536  208   18 1194 5966  938    0]\n",
      " [   2  721  284   22 1724 1002 3453    0]\n",
      " [   0    0    0    0    0    0    0    0]] \n",
      "\n",
      "Classification report\n",
      "               precision    recall  f1-score   support\n",
      "\n",
      "           0       0.71      0.61      0.66        41\n",
      "           1       0.56      0.55      0.55      5536\n",
      "           2       0.86      0.86      0.86      6938\n",
      "           3       0.48      0.55      0.51       117\n",
      "           4       0.55      0.55      0.55      9278\n",
      "           5       0.67      0.67      0.67      8864\n",
      "           6       0.48      0.48      0.48      7208\n",
      "           7       0.00      0.00      0.00         0\n",
      "\n",
      "    accuracy                           0.62     37982\n",
      "   macro avg       0.54      0.53      0.54     37982\n",
      "weighted avg       0.62      0.62      0.62     37982\n",
      " \n",
      "\n"
     ]
    }
   ],
   "source": [
    "model_DT= DecisionTreeClassifier(criterion=\"gini\", splitter=\"best\", random_state=10)\n",
    "model_DT.fit(X_train, Y_train)\n",
    "DT= model_DT.predict(X_test)\n",
    "\n",
    "print(\"Accuracy score:\\n\", accuracy_score(Y_test, DT),\"\\n\")\n",
    "print(\"Confusion matix:\\n\", confusion_matrix(Y_test, DT),\"\\n\")\n",
    "print(\"Classification report\\n\", classification_report(Y_test, DT),\"\\n\")"
   ]
  },
  {
   "cell_type": "code",
   "execution_count": 56,
   "id": "b0f2bf4b",
   "metadata": {},
   "outputs": [],
   "source": [
    "X_train, X_test, Y_train, Y_test = train_test_split(X, Y, test_size=0.3,random_state=10) "
   ]
  },
  {
   "cell_type": "code",
   "execution_count": 57,
   "id": "1ee08246",
   "metadata": {},
   "outputs": [
    {
     "name": "stdout",
     "output_type": "stream",
     "text": [
      "Accuracy score:\n",
      " 0.3271549681428045 \n",
      "\n",
      "Confusion matix:\n",
      " [[   0    0   24    0   14    2    1]\n",
      " [   0   18 1548    0 2787 1028  155]\n",
      " [   0   35 3716    0 1048 2069   70]\n",
      " [   0    0   42    0   47   22    6]\n",
      " [   0   21 1735    0 5898 1228  396]\n",
      " [   0   40 2741    0 3423 2457  203]\n",
      " [   0   10 1176    0 4916  769  337]] \n",
      "\n",
      "Classification report\n",
      "               precision    recall  f1-score   support\n",
      "\n",
      "           0       0.00      0.00      0.00        41\n",
      "           1       0.15      0.00      0.01      5536\n",
      "           2       0.34      0.54      0.41      6938\n",
      "           3       0.00      0.00      0.00       117\n",
      "           4       0.33      0.64      0.43      9278\n",
      "           5       0.32      0.28      0.30      8864\n",
      "           6       0.29      0.05      0.08      7208\n",
      "\n",
      "    accuracy                           0.33     37982\n",
      "   macro avg       0.20      0.21      0.18     37982\n",
      "weighted avg       0.29      0.33      0.27     37982\n",
      " \n",
      "\n"
     ]
    }
   ],
   "source": [
    "model_KNN= KNeighborsClassifier(n_neighbors=int(np.sqrt(len(X_train))), metric=\"euclidean\")\n",
    "model_KNN.fit(X_train, Y_train)\n",
    "KNN= model_KNN.predict(X_test)\n",
    "\n",
    "print(\"Accuracy score:\\n\", accuracy_score(Y_test, KNN),\"\\n\")\n",
    "print(\"Confusion matix:\\n\", confusion_matrix(Y_test, KNN),\"\\n\")\n",
    "print(\"Classification report\\n\", classification_report(Y_test, KNN),\"\\n\")"
   ]
  },
  {
   "cell_type": "code",
   "execution_count": 58,
   "id": "f5a56765",
   "metadata": {
    "scrolled": false
   },
   "outputs": [
    {
     "name": "stdout",
     "output_type": "stream",
     "text": [
      "Accuracy score:\n",
      " 0.4815965457321889 \n",
      "\n",
      "Confusion matix:\n",
      " [[  16    7    3    0   12    0    3]\n",
      " [   2 2106  329    1 1734  619  745]\n",
      " [   7  513 4570   10  800  623  415]\n",
      " [   0   11    7   43   34    9   13]\n",
      " [   2  881  582    5 5337  955 1516]\n",
      " [   2  719  840    7 2308 3985 1003]\n",
      " [   3  707  362   10 3031  860 2235]] \n",
      "\n",
      "Classification report\n",
      "               precision    recall  f1-score   support\n",
      "\n",
      "           0       0.50      0.39      0.44        41\n",
      "           1       0.43      0.38      0.40      5536\n",
      "           2       0.68      0.66      0.67      6938\n",
      "           3       0.57      0.37      0.45       117\n",
      "           4       0.40      0.58      0.47      9278\n",
      "           5       0.57      0.45      0.50      8864\n",
      "           6       0.38      0.31      0.34      7208\n",
      "\n",
      "    accuracy                           0.48     37982\n",
      "   macro avg       0.50      0.45      0.47     37982\n",
      "weighted avg       0.49      0.48      0.48     37982\n",
      " \n",
      "\n"
     ]
    }
   ],
   "source": [
    "model_KNN= KNeighborsClassifier(n_neighbors=10, metric=\"euclidean\")\n",
    "model_KNN.fit(X_train, Y_train)\n",
    "KNN= model_KNN.predict(X_test)\n",
    "\n",
    "print(\"Accuracy score:\\n\", accuracy_score(Y_test, KNN),\"\\n\")\n",
    "print(\"Confusion matix:\\n\", confusion_matrix(Y_test, KNN),\"\\n\")\n",
    "print(\"Classification report\\n\", classification_report(Y_test, KNN),\"\\n\")"
   ]
  },
  {
   "cell_type": "code",
   "execution_count": 59,
   "id": "8bdd2515",
   "metadata": {},
   "outputs": [
    {
     "name": "stdout",
     "output_type": "stream",
     "text": [
      "Accuracy score:\n",
      " 0.6568637775788532 \n",
      "\n",
      "Confusion matix:\n",
      " [[  25    0    3    0    7    1    5]\n",
      " [   0 2693   18    0 1978  113  734]\n",
      " [   0   11 5928    0  714   42  243]\n",
      " [   0    3    0   64   32    3   15]\n",
      " [   0   67   16    0 7449  231 1515]\n",
      " [   0   45   11    0 2471 5476  861]\n",
      " [   0   55    9    0 3628  202 3314]] \n",
      "\n",
      "Classification report\n",
      "               precision    recall  f1-score   support\n",
      "\n",
      "           0       1.00      0.61      0.76        41\n",
      "           1       0.94      0.49      0.64      5536\n",
      "           2       0.99      0.85      0.92      6938\n",
      "           3       1.00      0.55      0.71       117\n",
      "           4       0.46      0.80      0.58      9278\n",
      "           5       0.90      0.62      0.73      8864\n",
      "           6       0.50      0.46      0.48      7208\n",
      "\n",
      "    accuracy                           0.66     37982\n",
      "   macro avg       0.83      0.63      0.69     37982\n",
      "weighted avg       0.74      0.66      0.67     37982\n",
      " \n",
      "\n"
     ]
    }
   ],
   "source": [
    "model_EXT= ExtraTreesClassifier(n_estimators=100, random_state=10)\n",
    "model_EXT.fit(X_train,Y_train)\n",
    "EXT= model_EXT.predict(X_test)\n",
    "\n",
    "print(\"Accuracy score:\\n\", accuracy_score(Y_test, EXT),\"\\n\")\n",
    "print(\"Confusion matix:\\n\", confusion_matrix(Y_test, EXT),\"\\n\")\n",
    "print(\"Classification report\\n\", classification_report(Y_test, EXT),\"\\n\")"
   ]
  },
  {
   "cell_type": "code",
   "execution_count": null,
   "id": "950b9f69",
   "metadata": {},
   "outputs": [],
   "source": [
    "model_RF= RandomForestClassifier(n_estimators=1000, random_state=10)\n",
    "model_RF.fit(X_train,Y_train)\n",
    "RF= model_RF.predict(X_test)\n",
    "\n",
    "print(\"Accuracy score:\\n\", accuracy_score(Y_test, RF),\"\\n\")\n",
    "print(\"Confusion matix:\\n\", confusion_matrix(Y_test, RF),\"\\n\")\n",
    "print(\"Classification report\\n\", classification_report(Y_test, RF),\"\\n\")"
   ]
  },
  {
   "cell_type": "code",
   "execution_count": null,
   "id": "caeeac49",
   "metadata": {},
   "outputs": [],
   "source": [
    "model_GB= GradientBoostingClassifier(n_estimators=100, random_state=10)\n",
    "model_GB.fit(X_train,Y_train)\n",
    "GB= model_GB.predict(X_test)\n",
    "\n",
    "print(\"Accuracy score:\\n\", accuracy_score(Y_test, GB),\"\\n\")\n",
    "print(\"Confusion matix:\\n\", confusion_matrix(Y_test, GB),\"\\n\")\n",
    "print(\"Classification report\\n\", classification_report(Y_test, GB),\"\\n\")"
   ]
  }
 ],
 "metadata": {
  "kernelspec": {
   "display_name": "Python 3",
   "language": "python",
   "name": "python3"
  },
  "language_info": {
   "codemirror_mode": {
    "name": "ipython",
    "version": 3
   },
   "file_extension": ".py",
   "mimetype": "text/x-python",
   "name": "python",
   "nbconvert_exporter": "python",
   "pygments_lexer": "ipython3",
   "version": "3.8.8"
  }
 },
 "nbformat": 4,
 "nbformat_minor": 5
}
